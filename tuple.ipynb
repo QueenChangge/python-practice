{
 "cells": [
  {
   "cell_type": "markdown",
   "metadata": {},
   "source": [
    "# TUPLE -> IMMUTABLE"
   ]
  },
  {
   "cell_type": "code",
   "execution_count": 1,
   "metadata": {},
   "outputs": [
    {
     "name": "stdout",
     "output_type": "stream",
     "text": [
      "0 16 40\n"
     ]
    }
   ],
   "source": [
    "def convert_seconds(seconds):\n",
    "  hours = seconds // 3600\n",
    "  minutes = (seconds - hours * 3600) // 60\n",
    "  remaining_seconds = seconds - hours * 3600 - minutes * 60\n",
    "  return hours, minutes, remaining_seconds\n",
    "\n",
    "# more than 1 ouput of the function usually in the form of tuple type\n",
    "hours, minutes, seconds = convert_seconds(1000)\n",
    "print(hours, minutes, seconds)"
   ]
  },
  {
   "cell_type": "code",
   "execution_count": null,
   "metadata": {},
   "outputs": [],
   "source": [
    "def file_size(file_info):\n",
    "\tname, ext, size = file_info\n",
    "\treturn(\"{:.2f}\".format(size / 1024))\n",
    "\n",
    "print(file_size(('Class Assignment', 'docx', 17875))) # Should print 17.46\n",
    "print(file_size(('Notes', 'txt', 496))) # Should print 0.48\n",
    "print(file_size(('Program', 'py', 1239))) # Should print 1.21"
   ]
  },
  {
   "cell_type": "markdown",
   "metadata": {},
   "source": [
    "## TUPLE WITH MUTABLE OBJECT"
   ]
  },
  {
   "cell_type": "code",
   "execution_count": null,
   "metadata": {},
   "outputs": [],
   "source": [
    "# A tuple with a list as an element\n",
    "my_tuple = (1, 2, ['a', 'b', 'c'])\n",
    "\n",
    "# You can't change the tuple itself\n",
    "# my_tuple[0] = 3  # This would raise a TypeError\n",
    "\n",
    "# But you can modify the mutable elements within the tuple\n",
    "my_tuple[2][0] = 'x'  \n",
    "print(my_tuple)  # Outputs: (1, 2, ['x', 'b', 'c'])"
   ]
  },
  {
   "cell_type": "markdown",
   "metadata": {},
   "source": [
    "## RETURN MULTIPLE VALUES FROM FUNCTION"
   ]
  },
  {
   "cell_type": "code",
   "execution_count": null,
   "metadata": {},
   "outputs": [],
   "source": [
    "def calculate_numbers(a, b):\n",
    "    return a+b, a-b, a*b, a/b\n",
    "\n",
    "add_result, sub_result, mul_result, div_result = calculate_numbers(10, 2)\n",
    "print(add_result)  # Outputs: 12\n",
    "print(sub_result)  # Outputs: 8"
   ]
  }
 ],
 "metadata": {
  "kernelspec": {
   "display_name": "Python 3",
   "language": "python",
   "name": "python3"
  },
  "language_info": {
   "codemirror_mode": {
    "name": "ipython",
    "version": 3
   },
   "file_extension": ".py",
   "mimetype": "text/x-python",
   "name": "python",
   "nbconvert_exporter": "python",
   "pygments_lexer": "ipython3",
   "version": "3.12.6"
  }
 },
 "nbformat": 4,
 "nbformat_minor": 2
}
