{
 "cells": [
  {
   "cell_type": "code",
   "execution_count": 14,
   "metadata": {},
   "outputs": [
    {
     "name": "stdout",
     "output_type": "stream",
     "text": [
      "4096\n",
      "4096\n",
      "8192\n",
      "8192\n"
     ]
    }
   ],
   "source": [
    "def calculate_storage(filesize):\n",
    "    block_size = 4096\n",
    "    # Use floor division to calculate how many blocks are fully occupied\n",
    "    full_blocks = filesize // block_size\n",
    "    # Use the modulo operator to check whether there's any remainder\n",
    "    partial_block_remainder = filesize % block_size\n",
    "    # Depending on whether there's a remainder or not, return\n",
    "    # the total number of bytes required to allocate enough blocks\n",
    "    # to store your data.\n",
    "    if partial_block_remainder > 0:\n",
    "        return (block_size * full_blocks) + block_size\n",
    "    return block_size * full_blocks\n",
    "\n",
    "print(calculate_storage(1))    # Should be 4096\n",
    "print(calculate_storage(4096)) # Should be 4096\n",
    "print(calculate_storage(4097)) # Should be 8192\n",
    "print(calculate_storage(6000)) # Should be 8192"
   ]
  },
  {
   "cell_type": "code",
   "execution_count": 15,
   "metadata": {},
   "outputs": [
    {
     "name": "stdout",
     "output_type": "stream",
     "text": [
      "120\n",
      "-2\n",
      "False\n",
      "This comparison is True\n",
      "0\n"
     ]
    }
   ],
   "source": [
    "# Example 1\n",
    "# Evaluate the output of this print statement\n",
    "\n",
    "def product(a, b):\n",
    "        return(a*b)\n",
    "\n",
    "print(product(product(2,4), product(3,5)))\n",
    " \n",
    "#################################\n",
    "\n",
    "# Example 2 \n",
    "# Evaluate the output of this print statement\n",
    "\n",
    "def difference(a, b):\n",
    "        return(a-b)\n",
    "\n",
    "def sum(a, b):\n",
    "        return(a+b)\n",
    "\n",
    "print(difference(sum(2,2), sum(3,3)))\n",
    "\n",
    "\n",
    "#################################\n",
    "\n",
    "\n",
    "# Example 3\n",
    "# Evaluate the Boolean output of this comparison\n",
    "\n",
    "\n",
    "print((5 >= 2*4) and (5 <= 4*3))\n",
    "\n",
    "\n",
    "#################################\n",
    "\n",
    "\n",
    "# Example 4 \n",
    "# Evaluate the value of the comparison in the if statement \n",
    "\n",
    "\n",
    "x = 3\n",
    "if x+5 > x**2 or x % 4 != 0:\n",
    "        print(\"This comparison is True\")\n",
    "\n",
    "\n",
    "#################################\n",
    "\n",
    "\n",
    "# Example 5 \n",
    "# Evaluate the output of this if-elif-else statement\n",
    "\n",
    "\n",
    "number = 6\n",
    "if number * 2 < 14:\n",
    "        print(number * 6 % 3)\n",
    "elif number > 7:\n",
    "        print(100 / number)\n",
    "else:\n",
    "        print(7 - number)\n",
    "\n",
    "\n",
    "# Click Run to check your answers. If you are having trouble \n",
    "# calculating the correct answers manually, please review the\n",
    "# Practice Quiz Study Guides, videos, and readings in this Module.\n"
   ]
  },
  {
   "cell_type": "code",
   "execution_count": 16,
   "metadata": {},
   "outputs": [
    {
     "name": "stdout",
     "output_type": "stream",
     "text": [
      "10\n"
     ]
    }
   ],
   "source": [
    "def sum(x, y):\n",
    "    return(x+y)\n",
    "\n",
    "print(sum(sum(1,2), sum(3,4)))"
   ]
  },
  {
   "cell_type": "markdown",
   "metadata": {},
   "source": [
    "## Multiplying"
   ]
  },
  {
   "cell_type": "code",
   "execution_count": 17,
   "metadata": {},
   "outputs": [
    {
     "name": "stdout",
     "output_type": "stream",
     "text": [
      "3x1=3\n",
      "3x2=6\n",
      "3x3=9\n",
      "3x4=12\n",
      "3x5=15\n",
      "5x1=5\n",
      "5x2=10\n",
      "5x3=15\n",
      "5x4=20\n",
      "5x5=25\n",
      "8x1=8\n",
      "8x2=16\n",
      "8x3=24\n"
     ]
    }
   ],
   "source": [
    "def multiplication_table(number):\n",
    "    # Initialize the appropriate variable\n",
    "    multiplier = 1\n",
    "\n",
    "\n",
    "    # Complete the while loop condition.\n",
    "    while multiplier <= 5:\n",
    "        result = number * multiplier \n",
    "        if  result > 25:\n",
    "            # Enter the action to take if the result > 25\n",
    "            break\n",
    "        print(str(number) + \"x\" + str(multiplier) + \"=\" + str(result))\n",
    "        \n",
    "        # Increment the appropriate variable\n",
    "        multiplier += 1\n",
    "\n",
    "\n",
    "\n",
    "\n",
    "multiplication_table(3) \n",
    "# Should print: \n",
    "# 3x1=3 \n",
    "# 3x2=6 \n",
    "# 3x3=9 \n",
    "# 3x4=12 \n",
    "# 3x5=15\n",
    "\n",
    "\n",
    "multiplication_table(5) \n",
    "# Should print: \n",
    "# 5x1=5\n",
    "# 5x2=10\n",
    "# 5x3=15\n",
    "# 5x4=20\n",
    "# 5x5=25\n",
    "\n",
    "\n",
    "multiplication_table(8) \n",
    "# Should print:\n",
    "# 8x1=8\n",
    "# 8x2=16\n",
    "# 8x3=24"
   ]
  },
  {
   "cell_type": "markdown",
   "metadata": {},
   "source": []
  },
  {
   "cell_type": "code",
   "execution_count": 18,
   "metadata": {},
   "outputs": [
    {
     "name": "stdout",
     "output_type": "stream",
     "text": [
      "[0|0] \n",
      "[1|0] [1|1] \n",
      "[2|0] [2|1] [2|2] \n",
      "[3|0] [3|1] [3|2] [3|3] \n",
      "[4|0] [4|1] [4|2] [4|3] [4|4] \n",
      "[5|0] [5|1] [5|2] [5|3] [5|4] [5|5] \n",
      "[6|0] [6|1] [6|2] [6|3] [6|4] [6|5] [6|6] \n",
      "[0|0] [0|1] [0|2] [0|3] [0|4] [0|5] [0|6] \n",
      "[1|1] [1|2] [1|3] [1|4] [1|5] [1|6] \n",
      "[2|2] [2|3] [2|4] [2|5] [2|6] \n",
      "[3|3] [3|4] [3|5] [3|6] \n",
      "[4|4] [4|5] [4|6] \n",
      "[5|5] [5|6] \n",
      "[6|6] \n"
     ]
    }
   ],
   "source": [
    "for left in range(7):\n",
    "    n = 0\n",
    "    for right in range(n, left + 1):\n",
    "        print(\"[\" + str(left) + \"|\" + str(right) + \"]\", end=\" \")\n",
    "    print()\n",
    "    n = n + 1\n",
    "\n",
    "\n",
    "\n",
    "\n",
    "\n",
    "for left in range(7):\n",
    "  for right in range(left, 7):\n",
    "    print(\"[\" + str(left) + \"|\" + str(right) + \"]\", end=\" \")\n",
    "  print()"
   ]
  },
  {
   "cell_type": "code",
   "execution_count": 19,
   "metadata": {},
   "outputs": [
    {
     "name": "stdout",
     "output_type": "stream",
     "text": [
      "Dragons vs Wolves\n",
      "Dragons vs Pandas\n",
      "Dragons vs Unicorns\n",
      "Wolves vs Dragons\n",
      "Wolves vs Pandas\n",
      "Wolves vs Unicorns\n",
      "Pandas vs Dragons\n",
      "Pandas vs Wolves\n",
      "Pandas vs Unicorns\n",
      "Unicorns vs Dragons\n",
      "Unicorns vs Wolves\n",
      "Unicorns vs Pandas\n"
     ]
    }
   ],
   "source": [
    "teams = [ 'Dragons', 'Wolves', 'Pandas', 'Unicorns']\n",
    "for home_team in teams:\n",
    "  for away_team in teams:\n",
    "    if home_team != away_team:\n",
    "      print(home_team + \" vs \" + away_team)"
   ]
  },
  {
   "cell_type": "markdown",
   "metadata": {},
   "source": [
    "## LIST COMPREHENSIONS"
   ]
  },
  {
   "cell_type": "code",
   "execution_count": 20,
   "metadata": {},
   "outputs": [
    {
     "name": "stdout",
     "output_type": "stream",
     "text": [
      "[1, 4, 9, 16, 25]\n"
     ]
    }
   ],
   "source": [
    "numbers = [1, 2, 3, 4, 5]\n",
    "squared_numbers = [x ** 2 for x in numbers]\n",
    "print(squared_numbers)"
   ]
  },
  {
   "cell_type": "markdown",
   "metadata": {},
   "source": [
    "## Map Used"
   ]
  },
  {
   "cell_type": "code",
   "execution_count": 21,
   "metadata": {},
   "outputs": [
    {
     "data": {
      "text/plain": [
       "9"
      ]
     },
     "execution_count": 21,
     "metadata": {},
     "output_type": "execute_result"
    }
   ],
   "source": [
    "def square(x):\n",
    "    return x*x\n",
    "\n",
    "numbers=[1, 2, 3, 4, 5] \n",
    "sqrs_of_numbers=map(square, numbers)\n",
    "next(sqrs_of_numbers)     \n",
    "next(sqrs_of_numbers)  \n",
    "next(sqrs_of_numbers)  "
   ]
  },
  {
   "cell_type": "code",
   "execution_count": 22,
   "metadata": {},
   "outputs": [
    {
     "name": "stdout",
     "output_type": "stream",
     "text": [
      "1\n",
      "2\n",
      "3\n",
      "4\n",
      "5\n"
     ]
    }
   ],
   "source": [
    "nums = [1,2,3,4,5]\n",
    "numitr = iter(nums)\n",
    "\n",
    "print(next(numitr)) # prints 1\n",
    "print(next(numitr)) # prints 2\n",
    "print(next(numitr)) # prints 3\n",
    "print(next(numitr)) # prints 4\n",
    "print(next(numitr)) # prints 5"
   ]
  },
  {
   "cell_type": "code",
   "execution_count": 23,
   "metadata": {},
   "outputs": [
    {
     "data": {
      "text/plain": [
       "[10, 400, 27000, 2560000, 312500000]"
      ]
     },
     "execution_count": 23,
     "metadata": {},
     "output_type": "execute_result"
    }
   ],
   "source": [
    "# USING POW (BUILT IN FUNCTION)\n",
    "\n",
    "bases=[10, 20, 30, 40, 50]\n",
    "index=[1, 2, 3, 4, 5]\n",
    "powers=list(map(pow, bases, index))\n",
    "powers "
   ]
  },
  {
   "cell_type": "markdown",
   "metadata": {},
   "source": [
    "## LAMBDA / DEFINE ANONYMUS FUNCTION WITH QUICK ACCESS"
   ]
  },
  {
   "cell_type": "code",
   "execution_count": 24,
   "metadata": {},
   "outputs": [
    {
     "name": "stdout",
     "output_type": "stream",
     "text": [
      "Hello  Steve\n"
     ]
    }
   ],
   "source": [
    "greet = lambda name: print('Hello ', name) \n",
    "greet('Steve')  #output: Hello Steve"
   ]
  },
  {
   "cell_type": "markdown",
   "metadata": {},
   "source": [
    "## ZIP, LIST, DICT"
   ]
  },
  {
   "cell_type": "code",
   "execution_count": 25,
   "metadata": {},
   "outputs": [
    {
     "name": "stdout",
     "output_type": "stream",
     "text": [
      "[('India', 'Kohli'), ('England', 'Root'), ('NZ', 'Williaamson'), ('Aus', 'Smith')]\n",
      "{'India': 'Kohli', 'England': 'Root', 'NZ': 'Williaamson', 'Aus': 'Smith'}\n"
     ]
    }
   ],
   "source": [
    "teams = [\"India\", \"England\", \"NZ\", \"Aus\"]\n",
    "captains = [\"Kohli\",\"Root\",\"Williaamson\", \"Smith\"]\n",
    "zipped = zip(teams,captains)\n",
    "ziplist = list(zipped)\n",
    "print(ziplist)\n",
    "\n",
    "zipped = zip(teams,captains)\n",
    "zipdict = dict(zipped)\n",
    "print(zipdict)"
   ]
  },
  {
   "cell_type": "markdown",
   "metadata": {},
   "source": [
    "## SLICING"
   ]
  },
  {
   "cell_type": "code",
   "execution_count": 28,
   "metadata": {},
   "outputs": [
    {
     "name": "stdout",
     "output_type": "stream",
     "text": [
      "G\n",
      "tings\n",
      "Earthlings\n",
      "Greet\n",
      "Earthlings\n"
     ]
    }
   ],
   "source": [
    "string1 = \"Greetings, Earthlings\"\n",
    "print(string1[0])   # Prints “G”\n",
    "print(string1[4:9]) # Prints “tings”\n",
    "print(string1[11:]) # Prints “Earthlings”\n",
    "print(string1[:5])  # Prints “Greet”\n",
    "print(string1[-10:]) # Prints “Earthlings” again"
   ]
  },
  {
   "cell_type": "code",
   "execution_count": 30,
   "metadata": {},
   "outputs": [
    {
     "name": "stdout",
     "output_type": "stream",
     "text": [
      "(202) 555-1212\n"
     ]
    }
   ],
   "source": [
    "def format_phone(phonenum):\n",
    "    area_code = \"(\" + phonenum[:3] + \")\"\n",
    "    exchange = phonenum[3:6]\n",
    "    line = phonenum[-4:]\n",
    "    return area_code + \" \" + exchange + \"-\" + line\n",
    "\n",
    "\n",
    "print(format_phone(\"2025551212\")) # Outputs: (202) 555-1212"
   ]
  }
 ],
 "metadata": {
  "kernelspec": {
   "display_name": "Python 3",
   "language": "python",
   "name": "python3"
  },
  "language_info": {
   "codemirror_mode": {
    "name": "ipython",
    "version": 3
   },
   "file_extension": ".py",
   "mimetype": "text/x-python",
   "name": "python",
   "nbconvert_exporter": "python",
   "pygments_lexer": "ipython3",
   "version": "3.12.6"
  }
 },
 "nbformat": 4,
 "nbformat_minor": 2
}
