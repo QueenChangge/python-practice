{
 "cells": [
  {
   "cell_type": "markdown",
   "metadata": {},
   "source": [
    "# MUTABLE -> CAN BE CHANGED\n",
    "### use [...]"
   ]
  },
  {
   "cell_type": "code",
   "execution_count": null,
   "metadata": {},
   "outputs": [],
   "source": [
    "x = [\"Now\", \"we\", \"are\", \"cooking!\"]\n",
    "type(x)"
   ]
  },
  {
   "cell_type": "code",
   "execution_count": null,
   "metadata": {},
   "outputs": [],
   "source": [
    "x = [\"Now\", \"we\", \"are\", \"cooking!\"]\n",
    "len(x)"
   ]
  },
  {
   "cell_type": "code",
   "execution_count": null,
   "metadata": {},
   "outputs": [],
   "source": [
    "x = [\"Now\", \"we\", \"are\", \"cooking!\"]\n",
    "print(x)"
   ]
  },
  {
   "cell_type": "code",
   "execution_count": null,
   "metadata": {},
   "outputs": [],
   "source": [
    "x = [\"Now\", \"we\", \"are\", \"cooking!\"]\n",
    "print(x[0])\n",
    "print(x[3])"
   ]
  },
  {
   "cell_type": "code",
   "execution_count": null,
   "metadata": {},
   "outputs": [],
   "source": [
    "x = [\"Now\", \"we\", \"are\", \"cooking!\"]\n",
    "x[1:3]"
   ]
  },
  {
   "cell_type": "code",
   "execution_count": null,
   "metadata": {},
   "outputs": [],
   "source": [
    "x = [\"Now\", \"we\", \"are\", \"cooking!\"]\n",
    "x[2:]"
   ]
  },
  {
   "cell_type": "code",
   "execution_count": null,
   "metadata": {},
   "outputs": [],
   "source": [
    "x = [\"Now\", \"we\", \"are\", \"cooking!\"]\n",
    "\"are\" in x"
   ]
  },
  {
   "cell_type": "markdown",
   "metadata": {},
   "source": [
    "## Modifying"
   ]
  },
  {
   "cell_type": "code",
   "execution_count": null,
   "metadata": {},
   "outputs": [],
   "source": [
    "fruits = [\"Pineapple\", \"Banana\", \"Apple\", \"Melon\"]\n",
    "fruits.append(\"Kiwi\")\n",
    "print(fruits)"
   ]
  },
  {
   "cell_type": "code",
   "execution_count": 1,
   "metadata": {},
   "outputs": [
    {
     "name": "stdout",
     "output_type": "stream",
     "text": [
      "['Orange', 'Pineapple', 'Banana', 'Apple', 'Melon', 'Peach']\n"
     ]
    }
   ],
   "source": [
    "fruits = [\"Pineapple\", \"Banana\", \"Apple\", \"Melon\"]\n",
    "fruits.insert(0, \"Orange\")\n",
    "fruits.insert(25, \"Peach\")\n",
    "fruits.remove(\"Melon\")\n",
    "print(fruits)"
   ]
  },
  {
   "cell_type": "code",
   "execution_count": 2,
   "metadata": {},
   "outputs": [
    {
     "name": "stdout",
     "output_type": "stream",
     "text": [
      "['Orange', 'Pineapple', 'Banana', 'Peach']\n"
     ]
    }
   ],
   "source": [
    "fruits = [\"Pineapple\", \"Banana\", \"Apple\", \"Melon\"]\n",
    "fruits.insert(0, \"Orange\")\n",
    "fruits.insert(25, \"Peach\")\n",
    "fruits.remove(\"Melon\")\n",
    "fruits.pop(3)\n",
    "print(fruits)"
   ]
  },
  {
   "cell_type": "code",
   "execution_count": 3,
   "metadata": {},
   "outputs": [
    {
     "name": "stdout",
     "output_type": "stream",
     "text": [
      "['Orange', 'Pineapple', 'Strawberry', 'Peach']\n"
     ]
    }
   ],
   "source": [
    "fruits = [\"Pineapple\", \"Banana\", \"Apple\", \"Melon\"]\n",
    "fruits.insert(0, \"Orange\")\n",
    "fruits.insert(25, \"Peach\")\n",
    "fruits.remove(\"Melon\")\n",
    "fruits.pop(3)\n",
    "fruits[2] = \"Strawberry\"\n",
    "print(fruits)"
   ]
  },
  {
   "cell_type": "code",
   "execution_count": 4,
   "metadata": {},
   "outputs": [
    {
     "name": "stdout",
     "output_type": "stream",
     "text": [
      "Total characters: 22, Average length: 5.5\n"
     ]
    }
   ],
   "source": [
    "animals = [\"Lion\", \"Zebra\", \"Dolphin\", \"Monkey\"]\n",
    "chars = 0\n",
    "for animal in animals:\n",
    "  chars += len(animal)\n",
    "\n",
    "print(\"Total characters: {}, Average length: {}\".format(chars, chars/len(animals)))"
   ]
  },
  {
   "cell_type": "code",
   "execution_count": null,
   "metadata": {},
   "outputs": [],
   "source": [
    "winners = [\"Ashley\", \"Dylan\", \"Reese\"]\n",
    "for index, person in enumerate(winners):\n",
    "  print(\"{} - {}\".format(index + 1, person))"
   ]
  },
  {
   "cell_type": "markdown",
   "metadata": {},
   "source": [
    "## LIST COMPREHENSIONS"
   ]
  },
  {
   "cell_type": "code",
   "execution_count": null,
   "metadata": {},
   "outputs": [],
   "source": [
    "multiples = [x*7 for x in range(1,11)]\n",
    "print(multiples)"
   ]
  },
  {
   "cell_type": "code",
   "execution_count": 5,
   "metadata": {},
   "outputs": [
    {
     "name": "stdout",
     "output_type": "stream",
     "text": [
      "[6, 4, 4, 2, 4, 1]\n"
     ]
    }
   ],
   "source": [
    "languages = [\"Python\", \"Perl\", \"Ruby\", \"Go\", \"Java\", \"C\"]\n",
    "lengths = [len(language) for language in languages]\n",
    "print(lengths)"
   ]
  },
  {
   "cell_type": "code",
   "execution_count": null,
   "metadata": {},
   "outputs": [],
   "source": [
    "def odd_numbers(n):\n",
    "\treturn [x for x in range(n+1) if x % 2 != 0]\n",
    "\n",
    "print(odd_numbers(5))  # Should print [1, 3, 5]\n",
    "print(odd_numbers(10)) # Should print [1, 3, 5, 7, 9]\n",
    "print(odd_numbers(11)) # Should print [1, 3, 5, 7, 9, 11]\n",
    "print(odd_numbers(1))  # Should print [1]\n",
    "print(odd_numbers(-1)) # Should print []"
   ]
  },
  {
   "cell_type": "code",
   "execution_count": 9,
   "metadata": {},
   "outputs": [
    {
     "data": {
      "text/plain": [
       "[(1, 2, 3), (1, 2, 3), (1, 2, 3), (1, 2, 3), (1, 2, 3)]"
      ]
     },
     "execution_count": 9,
     "metadata": {},
     "output_type": "execute_result"
    }
   ],
   "source": [
    "numbers = [(1, 2, 3) for i in range(5)]\n",
    "numbers"
   ]
  },
  {
   "cell_type": "code",
   "execution_count": null,
   "metadata": {},
   "outputs": [],
   "source": [
    "def squares(start, end):\n",
    "    return [x**2 for x in range(start, end + 1)]\n",
    "\n",
    "\n",
    "print(squares(2, 3))    # Should print [4, 9]\n",
    "print(squares(1, 5))    # Should print [1, 4, 9, 16, 25]\n",
    "print(squares(0, 10))   # Should print [0, 1, 4, 9, 16, 25, 36, 49, 64, 81, 100]"
   ]
  },
  {
   "cell_type": "code",
   "execution_count": null,
   "metadata": {},
   "outputs": [],
   "source": [
    "# This block of code also changes the year on a list of dates using a\n",
    "# different approach than demonstrated in Skill Group 1. By using a \n",
    "# list comprehension, you can see how it is possible to refactor the\n",
    "# code to a shorter, more efficient code block. \n",
    "\n",
    "# The \"years\" list is given with existing elements.\n",
    "years = [\"January 2023\", \"May 2025\", \"April 2023\", \"August 2024\", \"September 2025\", \"December 2023\"]\n",
    "\n",
    "# The list comprehension below creates a new list \"updated_years\" to\n",
    "# hold the command to replace the \"2023\" substring of the \"year\"\n",
    "# element with the substring \"2024\". This action will be executed if\n",
    "# the last 4 indices of the \"year\" string is equal to the substring\n",
    "# \"2023\". If false (else), the \"year\" element will be included in the\n",
    "# new list \"updated_years\" unchanged.\n",
    "updated_years = [year.replace(\"2023\",\"2024\") if year[-4:] == \"2023\" else year for year in years]\n",
    "\n",
    "print(updated_years) \n",
    "# Should print [\"January 2024\", \"May 2025\", \"April 2024\", \"August 2024\", \"September 2025\", \"December 2024\"]"
   ]
  },
  {
   "cell_type": "code",
   "execution_count": null,
   "metadata": {},
   "outputs": [],
   "source": [
    "# This function splits a given string into a list of elements. Then, it\n",
    "# modifies each element by moving the first character to the end of the \n",
    "# element and adds a dash between the element and the moved character. \n",
    "# For example, the element \"2two\" will be changed to \"two-2\". Finally,\n",
    "# the function converts the list back to a string, and returns the\n",
    "# new string.\n",
    "def change_string(given_string):\n",
    "\n",
    "    # Initialize \"new_string\" as a string data type by using empty quotes.`\n",
    "    new_string = \"\"\n",
    "\n",
    "    # Split the \"given_string\" into a \"new_list\", with each \"element\"\n",
    "    # holding an individual word from the string.\n",
    "    new_list = given_string.split()\n",
    "\n",
    "    # The for loop iterates over each \"element\" in the \"new_list\".\n",
    "    for element in new_list:\n",
    "        # Convert the list into a \"new_string\" by using the assignment\n",
    "        # operator += to concatenate the following items: \n",
    "        # + Each list \"element\" (starting at index position [1:]), \n",
    "        # + a dash \"-\", \n",
    "        # + append the first character of the \"element\" (using the index \n",
    "        # [0]) to the end of the \"element\", and finally,\n",
    "        # + a space \" \" to separate each \"element\" in the \"new_string\".\n",
    "        new_string += element[1:] + \"-\" + element[0] + \" \"\n",
    "\n",
    "    # Return the list that has been converted back into a string.\n",
    "    return new_string\n",
    "\n",
    "print(change_string(\"1one 2two 3three 4four 5five\")) # Should print \"one-1 two-2 three-3 four-4 five-5\"  "
   ]
  },
  {
   "cell_type": "code",
   "execution_count": null,
   "metadata": {},
   "outputs": [],
   "source": [
    "# This function accepts a list name and a list of elements, and returns\n",
    "# a string with the format: \"The \"list_name\" list includes: element1, \n",
    "# element2, element3\". \n",
    "def list_elements(list_name, elements):\n",
    "    # This task can be completed in a single line of code. The \n",
    "    # concatenation of strings, \"list_name\", and the list \"elements\" can\n",
    "    # occur on the return line. In this case, the string \"The \" is added \n",
    "    # to the \"list_name\", plus the string \" list includes: \", then the\n",
    "    # \"elements\" are joined using a comma to separate each element of the \n",
    "    # list.\n",
    "    return \"The \" + list_name + \" list includes: \" + \", \".join(elements)\n",
    "\n",
    "print(list_elements(\"Printers\", [\"Color Printer\", \"Black and White Printer\", \"3-D Printer\"]))\n",
    "# Should print \"The Printers list includes: Color Printer, Black and White Printer, 3-D Printer\""
   ]
  },
  {
   "cell_type": "code",
   "execution_count": null,
   "metadata": {},
   "outputs": [],
   "source": [
    "filenames = [\"program.c\", \"stdio.hpp\", \"sample.hpp\", \"a.out\", \"math.hpp\", \"hpp.out\"]\n",
    "# Generate new_filenames as a list containing the new filenames\n",
    "# using as many lines of code as your chosen method requires.\n",
    "new_filenames = [filename.replace(\".hpp\", \".h\") if filename.endswith(\".hpp\") else filename for filename in filenames]  # Start your code here\n",
    "\n",
    "\n",
    "print(new_filenames) \n",
    "# Should print [\"program.c\", \"stdio.h\", \"sample.h\", \"a.out\", \"math.h\", \"hpp.out\"]"
   ]
  },
  {
   "cell_type": "markdown",
   "metadata": {},
   "source": [
    "## LIST WITH MAP"
   ]
  },
  {
   "cell_type": "code",
   "execution_count": null,
   "metadata": {},
   "outputs": [],
   "source": [
    "# A simple function to add 1 to a given number\n",
    "def add_one(number):\n",
    "    return number + 1\n",
    "\n",
    "# A list of numbers\n",
    "numbers = [1, 2, 3, 4, 5]\n",
    "\n",
    "# Use map to apply the function to each element in the list\n",
    "result = map(add_one, numbers)\n",
    "\n",
    "# Convert the map object to a list to print the result\n",
    "print(list(result))\n",
    "\n",
    "# Outputs: [2, 3, 4, 5, 6]"
   ]
  },
  {
   "cell_type": "markdown",
   "metadata": {},
   "source": [
    "## LIST WITH ZIP"
   ]
  },
  {
   "cell_type": "code",
   "execution_count": null,
   "metadata": {},
   "outputs": [],
   "source": [
    "# Two lists\n",
    "names = [\"Alice\", \"Bob\", \"Charlie\"]\n",
    "ages = [25, 30, 35]\n",
    "\n",
    "# Use zip to combine the lists\n",
    "combined = zip(names, ages)\n",
    "\n",
    "# Convert the zip object to a list to print the result\n",
    "print(list(combined))\n",
    "\n",
    "# Outputs: [('Alice', 25), ('Bob', 30), ('Charlie', 35)]"
   ]
  },
  {
   "cell_type": "code",
   "execution_count": null,
   "metadata": {},
   "outputs": [],
   "source": [
    "filenames = [\"program.c\", \"stdio.hpp\", \"sample.hpp\", \"a.out\", \"math.hpp\", \"hpp.out\"]\n",
    "# Generate new_filenames as a list containing the new filenames\n",
    "# using as many lines of code as your chosen method requires.\n",
    "new_filenames = [filename.replace(\".hpp\", \".h\") if filename.endswith(\".hpp\") else filename for filename in filenames]  # Start your code here\n",
    "\n",
    "\n",
    "print(new_filenames) \n",
    "# Should print [\"program.c\", \"stdio.h\", \"sample.h\", \"a.out\", \"math.h\", \"hpp.out\"]"
   ]
  },
  {
   "cell_type": "code",
   "execution_count": null,
   "metadata": {},
   "outputs": [],
   "source": [
    "def pig_latin(text):\n",
    "  say = \"\"\n",
    "  pig_list = []\n",
    "  # Separate the text into words\n",
    "  words = text.split()\n",
    "  for word in words:\n",
    "    # Create the pig latin word and add it to the list\n",
    "    pig_word = word[1:] + word[0] + \"ay\"\n",
    "    pig_list.append(pig_word)\n",
    "  say = \" \".join(pig_list)\n",
    "    # Turn the list back into a phrase\n",
    "  return say\n",
    "    \n",
    "print(pig_latin(\"hello how are you\")) # Should be \"ellohay owhay reaay ouyay\"\n",
    "print(pig_latin(\"programming in python is fun\")) # Should be \"rogrammingpay niay ythonpay siay unfay\""
   ]
  },
  {
   "cell_type": "code",
   "execution_count": 10,
   "metadata": {},
   "outputs": [
    {
     "name": "stdout",
     "output_type": "stream",
     "text": [
      "['program.c', 'stdio.h', 'sample.h', 'a.out', 'math.h', 'hpp.out']\n"
     ]
    }
   ],
   "source": [
    "filenames = [\"program.c\", \"stdio.hpp\", \"sample.hpp\", \"a.out\", \"math.hpp\", \"hpp.out\"]\n",
    "# Generate new_filenames as a list containing the new filenames\n",
    "# using as many lines of code as your chosen method requires.\n",
    "\n",
    "\n",
    "new_filenames = []\n",
    "for filename in filenames:\n",
    "    if filename.endswith(\"hpp\"):\n",
    "        new_filenames.append(filename.replace(\".hpp\", \".h\"))\n",
    "    else:\n",
    "        new_filenames.append(filename)\n",
    "\n",
    "\n",
    "print(new_filenames)\n",
    "# Should be [\"program.c\", \"stdio.h\", \"sample.h\", \"a.out\", \"math.h\", \"hpp.out\"]"
   ]
  },
  {
   "cell_type": "code",
   "execution_count": null,
   "metadata": {},
   "outputs": [],
   "source": [
    "def biography_list(people):\n",
    "    # Iterate over each \"person\" in the given \"people\" list of tuples. \n",
    "    for person in people:\n",
    "\n",
    "\n",
    "        # Separate the 3 items in each tuple into 3 variables:\n",
    "        # \"name\", \"age\", and \"profession\"   \n",
    "        name, age, profession = person\n",
    "\n",
    "\n",
    "        # Format the required sentence and place the 3 variables \n",
    "        # in the correct placeholders using the .format() method.\n",
    "        print(\"{} is {} years old and works as {}\".format(name, age, profession))\n",
    "\n",
    "\n",
    "\n",
    "\n",
    "# Call to the function:\n",
    "biography_list([(\"Ira\", 30, \"a Chef\"), (\"Raj\", 35, \"a Lawyer\"), (\"Maria\", 25, \"an Engineer\")])\n",
    "\n",
    "\n",
    "# Click Run to submit code\n",
    "\n",
    "\n",
    "# Output should match:\n",
    "# Ira is 30 years old and works as a Chef\n",
    "# Raj is 35 years old and works as a Lawyer\n",
    "# Maria is 25 years old and works as an Engineer"
   ]
  },
  {
   "cell_type": "code",
   "execution_count": null,
   "metadata": {},
   "outputs": [],
   "source": [
    "def pig_latin(text):\n",
    "  say = \"\"\n",
    "  pig_list = []\n",
    "  # Separate the text into words\n",
    "  words = text.split()\n",
    "  for word in words:\n",
    "    # Create the pig latin word and add it to the list\n",
    "    pig_word = word[1:] + word[0] + \"ay\"\n",
    "    pig_list.append(pig_word)\n",
    "  say = \" \".join(pig_list)\n",
    "    # Turn the list back into a phrase\n",
    "  return say\n",
    "    \n",
    "print(pig_latin(\"hello how are you\")) # Should be \"ellohay owhay reaay ouyay\"\n",
    "print(pig_latin(\"programming in python is fun\")) # Should be \"rogrammingpay niay ythonpay siay unfay\""
   ]
  }
 ],
 "metadata": {
  "kernelspec": {
   "display_name": "Python 3",
   "language": "python",
   "name": "python3"
  },
  "language_info": {
   "codemirror_mode": {
    "name": "ipython",
    "version": 3
   },
   "file_extension": ".py",
   "mimetype": "text/x-python",
   "name": "python",
   "nbconvert_exporter": "python",
   "pygments_lexer": "ipython3",
   "version": "3.12.6"
  }
 },
 "nbformat": 4,
 "nbformat_minor": 2
}
