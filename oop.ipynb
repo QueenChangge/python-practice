{
 "cells": [
  {
   "cell_type": "markdown",
   "metadata": {},
   "source": [
    "## METHOD\n",
    "methods are behaviors associated with object parameters that modify the state of that object. They are essentially functions that belong to a specific instance of a class. \n",
    "https://github.com/adam-p/markdown-here.wiki.git"
   ]
  },
  {
   "cell_type": "markdown",
   "metadata": {},
   "source": [
    "```\n",
    "def __init__(self, arguments):\n",
    "    # code to initialize attributes\n",
    "```\n",
    "A constructor is a special method in Python that is automatically called when an object of a class is created. It's used to initialize the attributes (variables) of the object.  \n",
    "Here, __init__ is the name of the constructor method. The self parameter refers to the instance of the class being created. You can pass any number of arguments to the constructor to initialize the object's attributes."
   ]
  },
  {
   "cell_type": "markdown",
   "metadata": {},
   "source": [
    "### INSTANCE OF A CLASS"
   ]
  },
  {
   "cell_type": "code",
   "execution_count": 1,
   "metadata": {},
   "outputs": [],
   "source": [
    "class Apple:\n",
    "    def __init__(self):\n",
    "        self.color = \"red\"\n",
    "        self.flavor = \"sweet\"\n",
    "\n",
    "# Instance of the apple class => honeycrisp\n",
    "honeycrisp = Apple()\n",
    "print(honeycrisp.color)\n",
    "\n",
    "# prints \"red\""
   ]
  },
  {
   "cell_type": "code",
   "execution_count": 2,
   "metadata": {},
   "outputs": [
    {
     "name": "stdout",
     "output_type": "stream",
     "text": [
      "sweet\n",
      "tart\n"
     ]
    }
   ],
   "source": [
    "class Apple:\n",
    "    def __init__(self, color, flavor):\n",
    "        self.color = color\n",
    "        self.flavor = flavor\n",
    "\n",
    "honeycrisp = Apple(\"red\", \"sweet\")\n",
    "fuji = Apple(\"red\", \"tart\")\n",
    "print(honeycrisp.flavor)\n",
    "print(fuji.flavor)\n",
    "\n",
    "# prints \"sweet\" and \"tart\""
   ]
  },
  {
   "cell_type": "code",
   "execution_count": 8,
   "metadata": {},
   "outputs": [
    {
     "name": "stdout",
     "output_type": "stream",
     "text": [
      "3\n"
     ]
    }
   ],
   "source": [
    "class Apple:\n",
    "    def __init__(self, color, flavor):\n",
    "        self.color = color\n",
    "        self.flavor = flavor\n",
    "    # __init__() should return None, not 'str' -> if adding return string\n",
    "\n",
    "    def __str__(self):\n",
    "        return \"an apple which is {} and {}\".format(self.color, self.flavor)\n",
    "        \n",
    "\n",
    "honeycrisp = Apple(\"red\", \"sweet\")\n",
    "print(honeycrisp)\n",
    "\n",
    "# prints \"an apple which is red and sweet\""
   ]
  },
  {
   "cell_type": "code",
   "execution_count": 10,
   "metadata": {},
   "outputs": [
    {
     "name": "stdout",
     "output_type": "stream",
     "text": [
      "3\n"
     ]
    }
   ],
   "source": [
    "class Apple:\n",
    "    def __init__(self, color, flavor):\n",
    "        self.color = color\n",
    "        self.flavor = flavor\n",
    "    def __len__(self):\n",
    "        return len(self.color)\n",
    "\n",
    "honeycrisp = Apple(\"red\", \"sweet\")\n",
    "print((len(honeycrisp)))"
   ]
  },
  {
   "cell_type": "code",
   "execution_count": null,
   "metadata": {},
   "outputs": [],
   "source": [
    "class MyList:\n",
    "    def __init__(self, data):\n",
    "        self.data = data\n",
    "\n",
    "    def __contains__(self, item):\n",
    "        return item in self.data\n",
    "\n",
    "# Example usage:\n",
    "my_list = MyList([1, 2, 3, 4])\n",
    "print(3 in my_list)  # Output: True\n",
    "print(5 in my_list)  # Output: False"
   ]
  },
  {
   "cell_type": "code",
   "execution_count": 11,
   "metadata": {},
   "outputs": [
    {
     "name": "stdout",
     "output_type": "stream",
     "text": [
      "oink oink\n"
     ]
    }
   ],
   "source": [
    "class Piglet():\n",
    "    def speak(self): #method with self parameter to defined its method\n",
    "        print(\"oink oink\")\n",
    "\n",
    "hamlet = Piglet()\n",
    "hamlet.speak()"
   ]
  },
  {
   "cell_type": "code",
   "execution_count": 22,
   "metadata": {},
   "outputs": [
    {
     "name": "stdout",
     "output_type": "stream",
     "text": [
      "oink - My name mulou - oink\n",
      "==============================\n",
      "oink - My name dubiduu - oink\n",
      "Im 180 years old, Oink!\n"
     ]
    }
   ],
   "source": [
    "class Piglet():\n",
    "    name = \"mulou\" #this class attribute will be used if there's no initiate in varible instance\n",
    "    age = 0\n",
    "    def speak(self): #method with self parameter to defined its method\n",
    "        print(f\"oink - My name {self.name} - oink\")\n",
    "\n",
    "    def pig_age(self):\n",
    "        print(f\"Im {self.age * 18} years old, Oink!\")\n",
    "\n",
    "# The instance of the class\n",
    "hamlet = Piglet()\n",
    "hamlet.speak()\n",
    "\n",
    "print(\"==============================\")\n",
    "\n",
    "dubiduu = Piglet()\n",
    "dubiduu.name = \"dubiduu\"\n",
    "dubiduu.age = 10\n",
    "dubiduu.speak()\n",
    "dubiduu.pig_age()"
   ]
  },
  {
   "cell_type": "markdown",
   "metadata": {},
   "source": [
    "### Method as special operators\n",
    "https://docs.python.org/3/library/operator.html#mapping-operators-to-functions"
   ]
  },
  {
   "cell_type": "code",
   "execution_count": 23,
   "metadata": {},
   "outputs": [
    {
     "name": "stdout",
     "output_type": "stream",
     "text": [
      "The area of triangle 1 is 25.0\n",
      "The area of triangle 2 is 24.0\n",
      "The area of both triangles is 49.0\n"
     ]
    }
   ],
   "source": [
    "class Triangle:\n",
    "    def __init__(self, base, height):\n",
    "        self.base = base\n",
    "        self.height = height\n",
    "    def area(self):\n",
    "        return 0.5 * self.base * self.height\n",
    "    def __add__(self, other):\n",
    "        return self.area() + other.area()\n",
    "        \n",
    "triangle1 = Triangle(10, 5)\n",
    "triangle2 = Triangle(6, 8)\n",
    "print(\"The area of triangle 1 is\", triangle1.area())\n",
    "print(\"The area of triangle 2 is\", triangle2.area())\n",
    "print(\"The area of both triangles is\", triangle1 + triangle2)"
   ]
  },
  {
   "cell_type": "markdown",
   "metadata": {},
   "source": [
    "### Getter & Setter\n",
    "The getter method retrieves the value of an attribute, while the setter method sets or changes the attribute's value, often including some sort of validation or modification to the data before setting the value."
   ]
  }
 ],
 "metadata": {
  "kernelspec": {
   "display_name": "Python 3",
   "language": "python",
   "name": "python3"
  },
  "language_info": {
   "codemirror_mode": {
    "name": "ipython",
    "version": 3
   },
   "file_extension": ".py",
   "mimetype": "text/x-python",
   "name": "python",
   "nbconvert_exporter": "python",
   "pygments_lexer": "ipython3",
   "version": "3.12.6"
  }
 },
 "nbformat": 4,
 "nbformat_minor": 2
}
