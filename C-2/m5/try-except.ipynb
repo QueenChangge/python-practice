{
 "cells": [
  {
   "cell_type": "code",
   "execution_count": 11,
   "metadata": {},
   "outputs": [
    {
     "ename": "IndentationError",
     "evalue": "expected an indented block after 'for' statement on line 12 (2383848412.py, line 13)",
     "output_type": "error",
     "traceback": [
      "\u001b[1;36m  Cell \u001b[1;32mIn[11], line 13\u001b[1;36m\u001b[0m\n\u001b[1;33m    characters[char] = characters.get(char, 0) + 1\u001b[0m\n\u001b[1;37m    ^\u001b[0m\n\u001b[1;31mIndentationError\u001b[0m\u001b[1;31m:\u001b[0m expected an indented block after 'for' statement on line 12\n"
     ]
    }
   ],
   "source": [
    "def character_frequency(filename):\n",
    "    \"\"\"Counts the frequency of each character in the given file.\"\"\"\n",
    "    # First try to open the file\n",
    "    try:\n",
    "        f = open(filename)\n",
    "    except OSError:\n",
    "        return None\n",
    "\n",
    "    # Now process the file\n",
    "    characters = {}\n",
    "    for line in f:\n",
    "        for char in line:\n",
    "        characters[char] = characters.get(char, 0) + 1\n",
    "    f.close() \n",
    "    return characters"
   ]
  },
  {
   "cell_type": "code",
   "execution_count": 16,
   "metadata": {},
   "outputs": [],
   "source": [
    "# def validate_user(username, minlen):\n",
    "#   if minlen < 1:\n",
    "#     raise ValueError(\"minlen must be at least 1\")\n",
    "\n",
    "#   if len(username) < minlen:\n",
    "#     return False\n",
    "#   if not username.isalnum():\n",
    "#     return False\n",
    "#   return True\n",
    "\n",
    "def validate_user(username, minlen):\n",
    "  assert type(username) == str, \"username must be a string\"\n",
    "  if minlen < 1:\n",
    "    raise ValueError(\"minlen must be at least 1\")\n",
    "\n",
    "  if len(username) < minlen:\n",
    "    return False\n",
    "  if not username.isalnum():\n",
    "    return False\n",
    "  return True"
   ]
  },
  {
   "cell_type": "code",
   "execution_count": 17,
   "metadata": {},
   "outputs": [
    {
     "ename": "ValueError",
     "evalue": "minlen must be at least 1",
     "output_type": "error",
     "traceback": [
      "\u001b[1;31m---------------------------------------------------------------------------\u001b[0m",
      "\u001b[1;31mValueError\u001b[0m                                Traceback (most recent call last)",
      "Cell \u001b[1;32mIn[17], line 1\u001b[0m\n\u001b[1;32m----> 1\u001b[0m \u001b[43mvalidate_user\u001b[49m\u001b[43m(\u001b[49m\u001b[38;5;124;43m\"\u001b[39;49m\u001b[38;5;124;43m\"\u001b[39;49m\u001b[43m,\u001b[49m\u001b[43m \u001b[49m\u001b[38;5;241;43m-\u001b[39;49m\u001b[38;5;241;43m1\u001b[39;49m\u001b[43m)\u001b[49m\n",
      "Cell \u001b[1;32mIn[16], line 14\u001b[0m, in \u001b[0;36mvalidate_user\u001b[1;34m(username, minlen)\u001b[0m\n\u001b[0;32m     12\u001b[0m \u001b[38;5;28;01massert\u001b[39;00m \u001b[38;5;28mtype\u001b[39m(username) \u001b[38;5;241m==\u001b[39m \u001b[38;5;28mstr\u001b[39m, \u001b[38;5;124m\"\u001b[39m\u001b[38;5;124musername must be a string\u001b[39m\u001b[38;5;124m\"\u001b[39m\n\u001b[0;32m     13\u001b[0m \u001b[38;5;28;01mif\u001b[39;00m minlen \u001b[38;5;241m<\u001b[39m \u001b[38;5;241m1\u001b[39m:\n\u001b[1;32m---> 14\u001b[0m   \u001b[38;5;28;01mraise\u001b[39;00m \u001b[38;5;167;01mValueError\u001b[39;00m(\u001b[38;5;124m\"\u001b[39m\u001b[38;5;124mminlen must be at least 1\u001b[39m\u001b[38;5;124m\"\u001b[39m)\n\u001b[0;32m     16\u001b[0m \u001b[38;5;28;01mif\u001b[39;00m \u001b[38;5;28mlen\u001b[39m(username) \u001b[38;5;241m<\u001b[39m minlen:\n\u001b[0;32m     17\u001b[0m   \u001b[38;5;28;01mreturn\u001b[39;00m \u001b[38;5;28;01mFalse\u001b[39;00m\n",
      "\u001b[1;31mValueError\u001b[0m: minlen must be at least 1"
     ]
    }
   ],
   "source": [
    "validate_user(\"\", -1)"
   ]
  },
  {
   "cell_type": "code",
   "execution_count": 18,
   "metadata": {},
   "outputs": [
    {
     "data": {
      "text/plain": [
       "True"
      ]
     },
     "execution_count": 18,
     "metadata": {},
     "output_type": "execute_result"
    }
   ],
   "source": [
    "validate_user(\"myuser\", 1)"
   ]
  },
  {
   "cell_type": "code",
   "execution_count": 19,
   "metadata": {},
   "outputs": [
    {
     "ename": "AssertionError",
     "evalue": "username must be a string",
     "output_type": "error",
     "traceback": [
      "\u001b[1;31m---------------------------------------------------------------------------\u001b[0m",
      "\u001b[1;31mAssertionError\u001b[0m                            Traceback (most recent call last)",
      "Cell \u001b[1;32mIn[19], line 1\u001b[0m\n\u001b[1;32m----> 1\u001b[0m \u001b[43mvalidate_user\u001b[49m\u001b[43m(\u001b[49m\u001b[38;5;241;43m88\u001b[39;49m\u001b[43m,\u001b[49m\u001b[43m \u001b[49m\u001b[38;5;241;43m1\u001b[39;49m\u001b[43m)\u001b[49m\n",
      "Cell \u001b[1;32mIn[16], line 12\u001b[0m, in \u001b[0;36mvalidate_user\u001b[1;34m(username, minlen)\u001b[0m\n\u001b[0;32m     11\u001b[0m \u001b[38;5;28;01mdef\u001b[39;00m \u001b[38;5;21mvalidate_user\u001b[39m(username, minlen):\n\u001b[1;32m---> 12\u001b[0m   \u001b[38;5;28;01massert\u001b[39;00m \u001b[38;5;28mtype\u001b[39m(username) \u001b[38;5;241m==\u001b[39m \u001b[38;5;28mstr\u001b[39m, \u001b[38;5;124m\"\u001b[39m\u001b[38;5;124musername must be a string\u001b[39m\u001b[38;5;124m\"\u001b[39m\n\u001b[0;32m     13\u001b[0m   \u001b[38;5;28;01mif\u001b[39;00m minlen \u001b[38;5;241m<\u001b[39m \u001b[38;5;241m1\u001b[39m:\n\u001b[0;32m     14\u001b[0m     \u001b[38;5;28;01mraise\u001b[39;00m \u001b[38;5;167;01mValueError\u001b[39;00m(\u001b[38;5;124m\"\u001b[39m\u001b[38;5;124mminlen must be at least 1\u001b[39m\u001b[38;5;124m\"\u001b[39m)\n",
      "\u001b[1;31mAssertionError\u001b[0m: username must be a string"
     ]
    }
   ],
   "source": [
    "validate_user(88, 1)"
   ]
  },
  {
   "cell_type": "code",
   "execution_count": 20,
   "metadata": {},
   "outputs": [
    {
     "ename": "AssertionError",
     "evalue": "username must be a string",
     "output_type": "error",
     "traceback": [
      "\u001b[1;31m---------------------------------------------------------------------------\u001b[0m",
      "\u001b[1;31mAssertionError\u001b[0m                            Traceback (most recent call last)",
      "Cell \u001b[1;32mIn[20], line 1\u001b[0m\n\u001b[1;32m----> 1\u001b[0m \u001b[43mvalidate_user\u001b[49m\u001b[43m(\u001b[49m\u001b[43m[\u001b[49m\u001b[43m]\u001b[49m\u001b[43m,\u001b[49m\u001b[43m \u001b[49m\u001b[38;5;241;43m1\u001b[39;49m\u001b[43m)\u001b[49m\n",
      "Cell \u001b[1;32mIn[16], line 12\u001b[0m, in \u001b[0;36mvalidate_user\u001b[1;34m(username, minlen)\u001b[0m\n\u001b[0;32m     11\u001b[0m \u001b[38;5;28;01mdef\u001b[39;00m \u001b[38;5;21mvalidate_user\u001b[39m(username, minlen):\n\u001b[1;32m---> 12\u001b[0m   \u001b[38;5;28;01massert\u001b[39;00m \u001b[38;5;28mtype\u001b[39m(username) \u001b[38;5;241m==\u001b[39m \u001b[38;5;28mstr\u001b[39m, \u001b[38;5;124m\"\u001b[39m\u001b[38;5;124musername must be a string\u001b[39m\u001b[38;5;124m\"\u001b[39m\n\u001b[0;32m     13\u001b[0m   \u001b[38;5;28;01mif\u001b[39;00m minlen \u001b[38;5;241m<\u001b[39m \u001b[38;5;241m1\u001b[39m:\n\u001b[0;32m     14\u001b[0m     \u001b[38;5;28;01mraise\u001b[39;00m \u001b[38;5;167;01mValueError\u001b[39;00m(\u001b[38;5;124m\"\u001b[39m\u001b[38;5;124mminlen must be at least 1\u001b[39m\u001b[38;5;124m\"\u001b[39m)\n",
      "\u001b[1;31mAssertionError\u001b[0m: username must be a string"
     ]
    }
   ],
   "source": [
    "validate_user([], 1)"
   ]
  },
  {
   "cell_type": "code",
   "execution_count": 21,
   "metadata": {},
   "outputs": [
    {
     "ename": "AssertionError",
     "evalue": "username must be a string",
     "output_type": "error",
     "traceback": [
      "\u001b[1;31m---------------------------------------------------------------------------\u001b[0m",
      "\u001b[1;31mAssertionError\u001b[0m                            Traceback (most recent call last)",
      "Cell \u001b[1;32mIn[21], line 1\u001b[0m\n\u001b[1;32m----> 1\u001b[0m \u001b[43mvalidate_user\u001b[49m\u001b[43m(\u001b[49m\u001b[43m[\u001b[49m\u001b[38;5;124;43m\"\u001b[39;49m\u001b[38;5;124;43mname\u001b[39;49m\u001b[38;5;124;43m\"\u001b[39;49m\u001b[43m]\u001b[49m\u001b[43m,\u001b[49m\u001b[43m \u001b[49m\u001b[38;5;241;43m1\u001b[39;49m\u001b[43m)\u001b[49m\n",
      "Cell \u001b[1;32mIn[16], line 12\u001b[0m, in \u001b[0;36mvalidate_user\u001b[1;34m(username, minlen)\u001b[0m\n\u001b[0;32m     11\u001b[0m \u001b[38;5;28;01mdef\u001b[39;00m \u001b[38;5;21mvalidate_user\u001b[39m(username, minlen):\n\u001b[1;32m---> 12\u001b[0m   \u001b[38;5;28;01massert\u001b[39;00m \u001b[38;5;28mtype\u001b[39m(username) \u001b[38;5;241m==\u001b[39m \u001b[38;5;28mstr\u001b[39m, \u001b[38;5;124m\"\u001b[39m\u001b[38;5;124musername must be a string\u001b[39m\u001b[38;5;124m\"\u001b[39m\n\u001b[0;32m     13\u001b[0m   \u001b[38;5;28;01mif\u001b[39;00m minlen \u001b[38;5;241m<\u001b[39m \u001b[38;5;241m1\u001b[39m:\n\u001b[0;32m     14\u001b[0m     \u001b[38;5;28;01mraise\u001b[39;00m \u001b[38;5;167;01mValueError\u001b[39;00m(\u001b[38;5;124m\"\u001b[39m\u001b[38;5;124mminlen must be at least 1\u001b[39m\u001b[38;5;124m\"\u001b[39m)\n",
      "\u001b[1;31mAssertionError\u001b[0m: username must be a string"
     ]
    }
   ],
   "source": [
    "validate_user([\"name\"], 1)"
   ]
  },
  {
   "cell_type": "code",
   "execution_count": 22,
   "metadata": {},
   "outputs": [
    {
     "ename": "ModuleNotFoundError",
     "evalue": "No module named 'validations'",
     "output_type": "error",
     "traceback": [
      "\u001b[1;31m---------------------------------------------------------------------------\u001b[0m",
      "\u001b[1;31mModuleNotFoundError\u001b[0m                       Traceback (most recent call last)",
      "Cell \u001b[1;32mIn[22], line 3\u001b[0m\n\u001b[0;32m      1\u001b[0m \u001b[38;5;28;01mimport\u001b[39;00m \u001b[38;5;21;01munittest\u001b[39;00m\n\u001b[1;32m----> 3\u001b[0m \u001b[38;5;28;01mfrom\u001b[39;00m \u001b[38;5;21;01mvalidations\u001b[39;00m \u001b[38;5;28;01mimport\u001b[39;00m validate_user\n\u001b[0;32m      5\u001b[0m \u001b[38;5;28;01mclass\u001b[39;00m \u001b[38;5;21;01mTestValidateUser\u001b[39;00m(unittest\u001b[38;5;241m.\u001b[39mTestCase):\n\u001b[0;32m      6\u001b[0m   \u001b[38;5;28;01mdef\u001b[39;00m \u001b[38;5;21mtest_valid\u001b[39m(\u001b[38;5;28mself\u001b[39m):\n",
      "\u001b[1;31mModuleNotFoundError\u001b[0m: No module named 'validations'"
     ]
    }
   ],
   "source": [
    "import unittest\n",
    "\n",
    "from validations import validate_user\n",
    "\n",
    "class TestValidateUser(unittest.TestCase):\n",
    "  def test_valid(self):\n",
    "    self.assertEqual(validate_user(\"validuser\", 3), True)\n",
    "\n",
    "  def test_too_short(self):\n",
    "    self.assertEqual(validate_user(\"inv\", 5), False)\n",
    "\n",
    "  def test_invalid_characters(self):\n",
    "    self.assertEqual(validate_user(\"invalid_user\", 1), False)\n",
    "  def test_invalid_minlen(self):\n",
    "    self.assertRaises(ValueError, validate_user, \"user\", -1)\n",
    "\n",
    "\n",
    "# Run the tests\n",
    "unittest.main()"
   ]
  },
  {
   "cell_type": "code",
   "execution_count": null,
   "metadata": {},
   "outputs": [],
   "source": [
    "def enhanced_read_and_divide(filename):\n",
    "\ttry:\n",
    "\t\twith open(filename, 'r') as file:\n",
    "\t\t\tdata = file.readlines()\n",
    "                \n",
    "            # Ensure there are at least two lines in the file\n",
    "            if len(data) < 2:\n",
    "                raise ValueError(\"Not enough data in the file.\")\n",
    "                \n",
    "            num1 = int(data[0])\n",
    "            num2 = int(data[1])\n",
    "                \n",
    "            # Check if second number is zero\n",
    "            if num2 == 0:\n",
    "                raise ZeroDivisionError(\"The denominator is zero.\")\n",
    "                \n",
    "            return num1 / num2\n",
    "\n",
    "\n",
    "\texcept FileNotFoundError:\n",
    "        return \"Error: The file was not found.\"\n",
    "\texcept ValueError as ve:\n",
    "        return f\"Value error: {ve}\"\n",
    "\texcept ZeroDivisionError as zde:\n",
    "        return f\"Division error: {zde}\""
   ]
  },
  {
   "cell_type": "code",
   "execution_count": null,
   "metadata": {},
   "outputs": [],
   "source": [
    "# Revised Guess() function\n",
    "def Guess(participants):\n",
    "    my_participant_dict = {}\n",
    "    for participant in participants:\n",
    "        my_participant_dict[participant] = random.randint(1, 9)\n",
    "        \n",
    "    if my_participant_dict.get(\"Larry\") == None:\n",
    "        return None\n",
    "    if my_participant_dict['Larry'] == 9:\n",
    "        return True\n",
    "    else:\n",
    "        return False"
   ]
  },
  {
   "cell_type": "markdown",
   "metadata": {},
   "source": [
    "### TEST CASES"
   ]
  },
  {
   "cell_type": "code",
   "execution_count": null,
   "metadata": {},
   "outputs": [],
   "source": [
    "\n",
    "#!/usr/bin/env python3\n",
    "\n",
    "\n",
    "import unittest\n",
    "from emails import find_email\n",
    "\n",
    "class EmailsTest(unittest.TestCase):\n",
    "  def test_basic(self):\n",
    "    testcase = [None, \"Bree\", \"Campbell\"]\n",
    "    expected = \"breee@abc.edu\"\n",
    "    self.assertEqual(find_email(testcase), expected)\n",
    "\n",
    "  def test_one_name(self):\n",
    "    testcase = [None, \"John\"]\n",
    "    expected = \"Missing parameters\"\n",
    "    self.assertEqual(find_email(testcase), expected)\n",
    "\n",
    "  def test_two_name(self):\n",
    "    testcase = [None, \"Roy\", \"Cooper\"]\n",
    "    expected = \"No email address found\"\n",
    "    self.assertEqual(find_email(testcase), expected)\n",
    "\n",
    "if __name__ == '__main__':\n",
    "  unittest.main()"
   ]
  },
  {
   "cell_type": "markdown",
   "metadata": {},
   "source": [
    "### SCRIPT TO TEST"
   ]
  },
  {
   "cell_type": "code",
   "execution_count": null,
   "metadata": {},
   "outputs": [],
   "source": [
    "#!/usr/bin/env python3\n",
    "\n",
    "import csv\n",
    "import sys\n",
    "\n",
    "def populate_dictionary(filename):\n",
    "  \"\"\"Populate a dictionary with name/email pairs for easy lookup.\"\"\"\n",
    "  email_dict = {}\n",
    "  with open(filename) as csvfile:\n",
    "    lines = csv.reader(csvfile, delimiter = ',')\n",
    "    for row in lines:\n",
    "      name = str(row[0].lower())\n",
    "      email_dict[name] = row[1]\n",
    "  return email_dict\n",
    "\n",
    "def find_email(argv):\n",
    "  \"\"\" Return an email address based on the username given.\"\"\"\n",
    "  # Create the username based on the command line input.\n",
    "  try:\n",
    "    fullname = str(argv[1] + \" \" + argv[2])\n",
    "    # Preprocess the data\n",
    "    email_dict = populate_dictionary('/home/student/data/user_emails.csv')\n",
    "     # If email exists, print it\n",
    "    if email_dict.get(fullname.lower()):\n",
    "      return email_dict.get(fullname.lower())\n",
    "    else:\n",
    "      return \"No email address found\"\n",
    "  except IndexError:\n",
    "    return \"Missing parameters\"\n",
    "\n",
    "def main():\n",
    "  print(find_email(sys.argv))\n",
    "\n",
    "if __name__ == \"__main__\":\n",
    "  main()"
   ]
  }
 ],
 "metadata": {
  "kernelspec": {
   "display_name": "Python 3",
   "language": "python",
   "name": "python3"
  },
  "language_info": {
   "codemirror_mode": {
    "name": "ipython",
    "version": 3
   },
   "file_extension": ".py",
   "mimetype": "text/x-python",
   "name": "python",
   "nbconvert_exporter": "python",
   "pygments_lexer": "ipython3",
   "version": "3.12.6"
  }
 },
 "nbformat": 4,
 "nbformat_minor": 2
}
