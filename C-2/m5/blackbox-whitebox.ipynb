{
 "cells": [
  {
   "cell_type": "markdown",
   "metadata": {},
   "source": [
    "- White-box Testing\n",
    "Leverages the tester's understanding of the software's internal structure and code.\n",
    "Allows for targeted test cases that examine various code paths and functionalities.\n",
    "\n",
    "- Black-box Testing\n",
    "Treats the software as a \"black box,\" where the tester doesn't know the internal workings.\n",
    "Focuses on testing against software requirements and specifications, ensuring desired outcomes"
   ]
  },
  {
   "cell_type": "code",
   "execution_count": null,
   "metadata": {},
   "outputs": [],
   "source": []
  }
 ],
 "metadata": {
  "language_info": {
   "name": "python"
  }
 },
 "nbformat": 4,
 "nbformat_minor": 2
}
