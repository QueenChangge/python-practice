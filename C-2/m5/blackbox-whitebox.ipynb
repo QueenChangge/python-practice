{
 "cells": [
  {
   "cell_type": "markdown",
   "metadata": {},
   "source": [
    "- White-box Testing\n",
    "  \n",
    "Leverages the tester's understanding of the software's internal structure and code.\n",
    "Allows for targeted test cases that examine various code paths and functionalities.\n",
    "\n",
    "- Black-box Testing\n",
    "  \n",
    "Treats the software as a \"black box,\" where the tester doesn't know the internal workings.\n",
    "Focuses on testing against software requirements and specifications, ensuring desired outcomes"
   ]
  },
  {
   "cell_type": "markdown",
   "metadata": {},
   "source": [
    "- Types of Software Tests\n",
    "\n",
    "Unit Tests: Focus on testing small, individual units of code (functions or methods) in isolation to verify they work correctly regardless of the rest of the application.\n",
    "Integration Tests: Verify the interactions between different parts of your code, ensuring they work together harmoniously when combined.\n",
    "\n",
    "- Specialized Testing Approaches\n",
    "\n",
    "Regression Tests: Written after fixing a bug to ensure the same issue doesn't resurface in the future.\n",
    "Smoke Tests: Basic checks performed early in the testing process to catch major issues and determine if further testing is feasible.\n",
    "\n",
    "- Load tests \n",
    "\n",
    "are designed to push your software to its limits. They simulate high traffic or heavy data processing to see how the system performs under pressure. This helps identify bottlenecks and potential crashes before they happen in a real-world scenario."
   ]
  },
  {
   "cell_type": "markdown",
   "metadata": {},
   "source": [
    "### TEST DRIVEN DEVELOPMENT\n",
    "TDD encourages writing tests before writing the actual code, which might seem counterintuitive but leads to well-thought-out programs. This approach involves writing a test, ensuring it fails (as the code isn't written yet), writing code to pass the test, and repeating the cycle for each new feature."
   ]
  },
  {
   "cell_type": "code",
   "execution_count": null,
   "metadata": {},
   "outputs": [],
   "source": []
  }
 ],
 "metadata": {
  "language_info": {
   "name": "python"
  }
 },
 "nbformat": 4,
 "nbformat_minor": 2
}
