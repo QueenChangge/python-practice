{
 "cells": [
  {
   "cell_type": "markdown",
   "metadata": {},
   "source": [
    "The most basic way of testing a script is to use different parameters and get the expected results.\n",
    "\n",
    "Codifying tests into its own software and code that can be run to verify that our programs do what we expect them to do is automatic testing.\n",
    "\n",
    "Test cases automatically test with a range of possible values to verify the program’s behavior.\n",
    "\n",
    "Software testing is the process of evaluating computer code to determine whether or not it does what you expect it to do, and the more complex the code, the more likely failure is."
   ]
  },
  {
   "cell_type": "code",
   "execution_count": 1,
   "metadata": {},
   "outputs": [
    {
     "data": {
      "text/plain": [
       "(['flour', 'sugar', 'eggs', 'cocoa', 'sprinkles', 'cherries'], 14)"
      ]
     },
     "execution_count": 1,
     "metadata": {},
     "output_type": "execute_result"
    }
   ],
   "source": [
    "from typing import List\n",
    "\n",
    "\n",
    "class CakeFactory:\n",
    " def __init__(self, cake_type: str, size: str):\n",
    "   self.cake_type = cake_type\n",
    "   self.size = size\n",
    "   self.toppings = []\n",
    "\n",
    "   # Price based on cake type and size\n",
    "   self.price = 10 if self.cake_type == \"chocolate\" else 8\n",
    "   self.price += 2 if self.size == \"medium\" else 4 if self.size == \"large\" else 0\n",
    "\n",
    " def add_topping(self, topping: str):\n",
    "     self.toppings.append(topping)\n",
    "     # Adding 1 to the price for each topping\n",
    "     self.price += 1\n",
    "\n",
    " def check_ingredients(self) -> List[str]:\n",
    "     ingredients = ['flour', 'sugar', 'eggs']\n",
    "     ingredients.append('cocoa') if self.cake_type == \"chocolate\" else ingredients.append('vanilla extract')\n",
    "     ingredients += self.toppings\n",
    "     return ingredients\n",
    "\n",
    " def check_price(self) -> float:\n",
    "     return self.price\n",
    "\n",
    "# Example of creating a cake and adding toppings\n",
    "cake = CakeFactory(\"chocolate\", \"medium\")\n",
    "cake.add_topping(\"sprinkles\")\n",
    "cake.add_topping(\"cherries\")\n",
    "cake_ingredients = cake.check_ingredients()\n",
    "cake_price = cake.check_price()\n",
    "\n",
    "\n",
    "cake_ingredients, cake_price"
   ]
  },
  {
   "cell_type": "code",
   "execution_count": null,
   "metadata": {},
   "outputs": [],
   "source": [
    "import unittest\n",
    "\n",
    "class TestCakeFactory(unittest.TestCase):\n",
    " def test_create_cake(self):\n",
    "   cake = CakeFactory(\"vanilla\", \"small\")\n",
    "   self.assertEqual(cake.cake_type, \"vanilla\")\n",
    "   self.assertEqual(cake.size, \"small\")\n",
    "   self.assertEqual(cake.price, 8) # Vanilla cake, small size\n",
    "\n",
    " def test_add_topping(self):\n",
    "     cake = CakeFactory(\"chocolate\", \"large\")\n",
    "     cake.add_topping(\"sprinkles\")\n",
    "     self.assertIn(\"sprinkles\", cake.toppings)\n",
    "\n",
    " def test_check_ingredients(self):\n",
    "     cake = CakeFactory(\"chocolate\", \"medium\")\n",
    "     cake.add_topping(\"cherries\")\n",
    "     ingredients = cake.check_ingredients()\n",
    "     self.assertIn(\"cocoa\", ingredients)\n",
    "     self.assertIn(\"cherries\", ingredients)\n",
    "     self.assertNotIn(\"vanilla extract\", ingredients)\n",
    "\n",
    " def test_check_price(self):\n",
    "     cake = CakeFactory(\"vanilla\", \"large\")\n",
    "     cake.add_topping(\"sprinkles\")\n",
    "     cake.add_topping(\"cherries\")\n",
    "     price = cake.check_price()\n",
    "     self.assertEqual(price, 13) # Vanilla cake, large size + 2 toppings\n",
    "\n",
    "\n",
    "# Running the unittests\n",
    "unittest.TextTestRunner().run(unittest.TestLoader().loadTestsFromTestCase(TestCakeFactory))"
   ]
  }
 ],
 "metadata": {
  "kernelspec": {
   "display_name": "Python 3",
   "language": "python",
   "name": "python3"
  },
  "language_info": {
   "codemirror_mode": {
    "name": "ipython",
    "version": 3
   },
   "file_extension": ".py",
   "mimetype": "text/x-python",
   "name": "python",
   "nbconvert_exporter": "python",
   "pygments_lexer": "ipython3",
   "version": "3.12.6"
  }
 },
 "nbformat": 4,
 "nbformat_minor": 2
}
