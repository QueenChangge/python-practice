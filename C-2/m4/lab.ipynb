{
 "cells": [
  {
   "cell_type": "code",
   "execution_count": null,
   "metadata": {},
   "outputs": [],
   "source": [
    "#!/usr/bin/env python3\n",
    "\n",
    "\n",
    "import sys\n",
    "import os\n",
    "import re\n",
    "\n",
    "def error_search(log_file):\n",
    "  error = input(\"What is the error? \")\n",
    "  returned_errors = []\n",
    "  with open(log_file, mode='r',encoding='UTF-8') as file:\n",
    "    for log in  file.readlines():\n",
    "      error_patterns = [\"error\"]\n",
    "      for i in range(len(error.split(' '))):\n",
    "        error_patterns.append(r\"{}\".format(error.split(' ')[i].lower()))\n",
    "      if all(re.search(error_pattern, log.lower()) for error_pattern in error_patterns):\n",
    "        returned_errors.append(log)\n",
    "    file.close()\n",
    "  return returned_errors\n",
    "  \n",
    "def file_output(returned_errors):\n",
    "  with open(os.path.expanduser('~') + '/data/errors_found.log', 'w') as file:\n",
    "    for error in returned_errors:\n",
    "      file.write(error)\n",
    "    file.close()\n",
    "\n",
    "    \n",
    "if __name__ == \"__main__\":\n",
    "  log_file = sys.argv[1]\n",
    "  returned_errors = error_search(log_file)\n",
    "  file_output(returned_errors)\n",
    "  sys.exit(0)"
   ]
  }
 ],
 "metadata": {
  "language_info": {
   "name": "python"
  }
 },
 "nbformat": 4,
 "nbformat_minor": 2
}
