{
 "cells": [
  {
   "cell_type": "code",
   "execution_count": null,
   "metadata": {},
   "outputs": [],
   "source": [
    "# import csv\n",
    "# import re\n",
    "\n",
    "# def contains_domain(address, domain):\n",
    "#   domain_pattern = r'[\\w\\.-]+@'+domain+'$'\n",
    "#   if re.match(domain_pattern, address):\n",
    "#     return True\n",
    "#   return False\n",
    "\n",
    "# def replace_domain(address, old_domain, new_domain):\n",
    "#   old_domain_pattern = r'' + old_domain + '$'\n",
    "#   address = re.sub(old_domain_pattern, new_domain, address)\n",
    "#   return address\n",
    "\n",
    "\n",
    "# def main():\n",
    "#     old_domain, new_domain = 'abc.edu', 'xyz.edu'\n",
    "#     csv_file_location = '/home/student/data/user_emails.csv.'\n",
    "#     report_file =  '/home/student/data' + '/updated_user_emails.csv'\n",
    "\n",
    "#     user_email_list = []\n",
    "#     old_domain_email_list = []\n",
    "#     new_domain_email_list = []\n",
    "\n",
    "#     with open(csv_file_location, 'r') as f:\n",
    "#         user_data_list = list(csv.reader(f))\n",
    "#         user_email_list = [data[1].strip() for data in user_data_list[1:]]\n",
    "\n",
    "#     for email_address in user_email_list:\n",
    "#       if contains_domain(email_address, old_domain):\n",
    "#         old_domain_email_list.append(email_address)\n",
    "#         replaced_email = replace_domain(email_address, old_domain, new_domain)\n",
    "#         new_domain_email_list.append(replaced_email)\n",
    "\n",
    "#     email_key = ' ' + 'Email Address'\n",
    "#     email_index = user_data_list[0].index(email_key)\n",
    "\n",
    "#     for user in user_data_list[1:]:\n",
    "#       for old_domain, new_domain in zip(old_domain_email_list, new_domain_email_list):\n",
    "#         if user[email_index] == ' ' + old_domain:\n",
    "#           user[email_index] = ' ' + new_domain\n",
    "#     f.close()\n",
    "\n",
    "\n",
    "#     with open(report_file, 'w+') as output_file:\n",
    "#         writer = csv.writer(output_file)\n",
    "#         writer.writerows(user_data_list)\n",
    "#         output_file.close()"
   ]
  },
  {
   "cell_type": "code",
   "execution_count": 2,
   "metadata": {},
   "outputs": [
    {
     "name": "stdout",
     "output_type": "stream",
     "text": [
      "['https://www.coursera.com', 'https://www.python.org']\n",
      "['https://www.google.com']\n",
      "['http://www.google.com']\n",
      "[]\n"
     ]
    }
   ],
   "source": [
    "import re\n",
    "\n",
    "def find_url(website):\n",
    " pattern = r\"https?://www\\.[\\w\\-]+\\.(?:com|org)\"#enter the regex pattern here\n",
    " result = re.findall(pattern, website) #enter the re method here\n",
    " return result\n",
    "\n",
    "\n",
    "print(find_url(\"Go to the website https://www.coursera.com find more information about Google Certificate Programs. Then, visit https://www.python.org/ to learn more about Python. \")) # Should return ['https://www.coursera.com', 'https://www.python.org']\n",
    "print(find_url(\"You can find anything on https://www.google.com!\")) # Should return ['https://www.google.com']\n",
    "print(find_url(\"You can find anything on http://www.google.com!\")) # Should return []\n",
    "print(find_url(\"Check out python.org!\")) # Should return []"
   ]
  },
  {
   "cell_type": "code",
   "execution_count": null,
   "metadata": {},
   "outputs": [],
   "source": [
    "def parse_sentences(sentence):\n",
    " pattern = r\"[ ]\" #enter the regex pattern here\n",
    " result = re.split(pattern, sentence) #enter the re method  here\n",
    " return result\n",
    "\n",
    "print(parse_sentences(\"Hello! How are you doing?\")) # should return ['Hello!', 'How', 'are', 'you', 'doing?']\n",
    "print(parse_sentences(\"what a beautiful day it is\")) # should return ['what', 'a', 'beautiful', 'day', 'it', 'is']\n",
    "print(parse_sentences(\"2 + 2 is definitely 4!\")) # should return ['2', '+', '2', 'is', 'definitely', '4!']\n"
   ]
  }
 ],
 "metadata": {
  "kernelspec": {
   "display_name": "Python 3",
   "language": "python",
   "name": "python3"
  },
  "language_info": {
   "codemirror_mode": {
    "name": "ipython",
    "version": 3
   },
   "file_extension": ".py",
   "mimetype": "text/x-python",
   "name": "python",
   "nbconvert_exporter": "python",
   "pygments_lexer": "ipython3",
   "version": "3.12.6"
  }
 },
 "nbformat": 4,
 "nbformat_minor": 2
}
