{
 "cells": [
  {
   "cell_type": "code",
   "execution_count": 14,
   "metadata": {},
   "outputs": [],
   "source": [
    "import os"
   ]
  },
  {
   "cell_type": "code",
   "execution_count": 15,
   "metadata": {},
   "outputs": [],
   "source": [
    "with open(\"novel.txt\", \"w\") as file: #write->old content is deleted\n",
    "    file.write(\"It was a dark and stormy night\")"
   ]
  },
  {
   "cell_type": "code",
   "execution_count": 16,
   "metadata": {},
   "outputs": [],
   "source": [
    "os.remove(\"novel.txt\") #delete file"
   ]
  },
  {
   "cell_type": "code",
   "execution_count": 17,
   "metadata": {},
   "outputs": [],
   "source": [
    "with open(\"novel.txt\", \"w\") as file: #write->old content is deleted\n",
    "    file.write(\"It was a dark and stormy night\")"
   ]
  },
  {
   "cell_type": "code",
   "execution_count": 18,
   "metadata": {},
   "outputs": [],
   "source": [
    "os.rename(\"novel.txt\", \"big-novel.txt\")"
   ]
  },
  {
   "cell_type": "code",
   "execution_count": 19,
   "metadata": {},
   "outputs": [
    {
     "name": "stdout",
     "output_type": "stream",
     "text": [
      "False\n",
      "True\n"
     ]
    }
   ],
   "source": [
    "print(os.path.exists(\"finished_masterpiece.txt\"))\n",
    "print(os.path.exists(\"big-novel.txt\"))"
   ]
  },
  {
   "cell_type": "markdown",
   "metadata": {},
   "source": [
    "### GET FILE INFORMATION"
   ]
  },
  {
   "cell_type": "code",
   "execution_count": 20,
   "metadata": {},
   "outputs": [
    {
     "data": {
      "text/plain": [
       "196"
      ]
     },
     "execution_count": 20,
     "metadata": {},
     "output_type": "execute_result"
    }
   ],
   "source": [
    "os.path.getsize(\"spider.txt\")\n",
    "#This code will provide the file size"
   ]
  },
  {
   "cell_type": "code",
   "execution_count": 21,
   "metadata": {},
   "outputs": [
    {
     "data": {
      "text/plain": [
       "1726962490.2372506"
      ]
     },
     "execution_count": 21,
     "metadata": {},
     "output_type": "execute_result"
    }
   ],
   "source": [
    "os.path.getmtime(\"spider.txt\")\n",
    "#This code will provide a unix timestamp for the file"
   ]
  },
  {
   "cell_type": "code",
   "execution_count": 22,
   "metadata": {},
   "outputs": [
    {
     "data": {
      "text/plain": [
       "datetime.datetime(2024, 9, 22, 7, 48, 10, 237251)"
      ]
     },
     "execution_count": 22,
     "metadata": {},
     "output_type": "execute_result"
    }
   ],
   "source": [
    "import datetime\n",
    "timestamp = os.path.getmtime(\"spider.txt\")\n",
    "datetime.datetime.fromtimestamp(timestamp)\n",
    "#This code will provide the date and time for the file in an \n",
    "#easy-to-understand format"
   ]
  },
  {
   "cell_type": "code",
   "execution_count": 23,
   "metadata": {},
   "outputs": [
    {
     "data": {
      "text/plain": [
       "'d:\\\\KULIAH\\\\ME\\\\CATATAN\\\\COURSE\\\\Git-Hub\\\\coursera-practice\\\\C-2\\\\practice\\\\spider.txt'"
      ]
     },
     "execution_count": 23,
     "metadata": {},
     "output_type": "execute_result"
    }
   ],
   "source": [
    "os.path.abspath(\"spider.txt\")\n",
    "#This code takes the file name and turns it into an absolute path"
   ]
  },
  {
   "cell_type": "code",
   "execution_count": 24,
   "metadata": {},
   "outputs": [
    {
     "name": "stdout",
     "output_type": "stream",
     "text": [
      "False\n",
      "File not found\n"
     ]
    }
   ],
   "source": [
    "import os\n",
    "file= \"file.dat\"\n",
    "if os.path.isfile(file):\n",
    "    print(os.path.isfile(file))\n",
    "    print(os.path.getsize(file))\n",
    "else:\n",
    "    print(os.path.isfile(file))\n",
    "    print(\"File not found\")"
   ]
  },
  {
   "cell_type": "markdown",
   "metadata": {},
   "source": [
    "https://www.coursera.org/learn/python-operating-system/supplement/Gog2G/review-directories\n",
    "https://www.pythoncheatsheet.org/modules/os-module"
   ]
  },
  {
   "cell_type": "code",
   "execution_count": 25,
   "metadata": {},
   "outputs": [
    {
     "ename": "FileNotFoundError",
     "evalue": "[WinError 3] The system cannot find the path specified: 'd:\\\\KULIAH\\\\ME\\\\CATATAN\\\\COURSE\\\\Git-Hub\\\\coursera-practice\\\\C-2\\\\practice\\\\sample_data\\\\README.md' -> 'd:\\\\KULIAH\\\\ME\\\\CATATAN\\\\COURSE\\\\Git-Hub\\\\coursera-practice\\\\C-2\\\\practice\\\\test1\\\\README.md'",
     "output_type": "error",
     "traceback": [
      "\u001b[1;31m---------------------------------------------------------------------------\u001b[0m",
      "\u001b[1;31mFileNotFoundError\u001b[0m                         Traceback (most recent call last)",
      "Cell \u001b[1;32mIn[25], line 19\u001b[0m\n\u001b[0;32m     15\u001b[0m dest_file \u001b[38;5;241m=\u001b[39m os\u001b[38;5;241m.\u001b[39mpath\u001b[38;5;241m.\u001b[39mjoin(os\u001b[38;5;241m.\u001b[39mgetcwd(), \u001b[38;5;124m\"\u001b[39m\u001b[38;5;124mtest1\u001b[39m\u001b[38;5;124m\"\u001b[39m, \u001b[38;5;124m\"\u001b[39m\u001b[38;5;124mREADME.md\u001b[39m\u001b[38;5;124m\"\u001b[39m)\n\u001b[0;32m     18\u001b[0m \u001b[38;5;66;03m# Move the file from its original location to the destination:\u001b[39;00m\n\u001b[1;32m---> 19\u001b[0m \u001b[43mos\u001b[49m\u001b[38;5;241;43m.\u001b[39;49m\u001b[43mrename\u001b[49m\u001b[43m(\u001b[49m\u001b[43msrc_file\u001b[49m\u001b[43m,\u001b[49m\u001b[43m \u001b[49m\u001b[43mdest_file\u001b[49m\u001b[43m)\u001b[49m\n",
      "\u001b[1;31mFileNotFoundError\u001b[0m: [WinError 3] The system cannot find the path specified: 'd:\\\\KULIAH\\\\ME\\\\CATATAN\\\\COURSE\\\\Git-Hub\\\\coursera-practice\\\\C-2\\\\practice\\\\sample_data\\\\README.md' -> 'd:\\\\KULIAH\\\\ME\\\\CATATAN\\\\COURSE\\\\Git-Hub\\\\coursera-practice\\\\C-2\\\\practice\\\\test1\\\\README.md'"
     ]
    }
   ],
   "source": [
    "# Create a directory and move a file from one directory to another\n",
    "# using low-level OS functions.\n",
    "\n",
    "import os\n",
    "\n",
    "# Check to see if a directory named \"test1\" exists under the current\n",
    "# directory. If not, create it:\n",
    "dest_dir = os.path.join(os.getcwd(), \"test1\")\n",
    "if not os.path.exists(dest_dir):\n",
    " os.mkdir(dest_dir)\n",
    "\n",
    "\n",
    "# Construct source and destination paths:\n",
    "src_file = os.path.join(os.getcwd(), \"sample_data\", \"README.md\")\n",
    "dest_file = os.path.join(os.getcwd(), \"test1\", \"README.md\")\n",
    "\n",
    "\n",
    "# Move the file from its original location to the destination:\n",
    "os.rename(src_file, dest_file)"
   ]
  },
  {
   "cell_type": "code",
   "execution_count": 26,
   "metadata": {},
   "outputs": [
    {
     "ename": "FileNotFoundError",
     "evalue": "[WinError 3] The system cannot find the path specified: 'sample_data\\\\README.md' -> 'test1\\\\README.md'",
     "output_type": "error",
     "traceback": [
      "\u001b[1;31m---------------------------------------------------------------------------\u001b[0m",
      "\u001b[1;31mFileNotFoundError\u001b[0m                         Traceback (most recent call last)",
      "Cell \u001b[1;32mIn[26], line 16\u001b[0m\n\u001b[0;32m     13\u001b[0m dest_file \u001b[38;5;241m=\u001b[39m dest_dir \u001b[38;5;241m/\u001b[39m \u001b[38;5;124m\"\u001b[39m\u001b[38;5;124mREADME.md\u001b[39m\u001b[38;5;124m\"\u001b[39m\n\u001b[0;32m     15\u001b[0m \u001b[38;5;66;03m# Move the file from its original location to the destination:\u001b[39;00m\n\u001b[1;32m---> 16\u001b[0m \u001b[43msrc_file\u001b[49m\u001b[38;5;241;43m.\u001b[39;49m\u001b[43mrename\u001b[49m\u001b[43m(\u001b[49m\u001b[43mdest_file\u001b[49m\u001b[43m)\u001b[49m\n",
      "File \u001b[1;32mc:\\Users\\USER\\AppData\\Local\\Programs\\Python\\Python312\\Lib\\pathlib.py:1363\u001b[0m, in \u001b[0;36mPath.rename\u001b[1;34m(self, target)\u001b[0m\n\u001b[0;32m   1353\u001b[0m \u001b[38;5;28;01mdef\u001b[39;00m \u001b[38;5;21mrename\u001b[39m(\u001b[38;5;28mself\u001b[39m, target):\n\u001b[0;32m   1354\u001b[0m \u001b[38;5;250m    \u001b[39m\u001b[38;5;124;03m\"\"\"\u001b[39;00m\n\u001b[0;32m   1355\u001b[0m \u001b[38;5;124;03m    Rename this path to the target path.\u001b[39;00m\n\u001b[0;32m   1356\u001b[0m \n\u001b[1;32m   (...)\u001b[0m\n\u001b[0;32m   1361\u001b[0m \u001b[38;5;124;03m    Returns the new Path instance pointing to the target path.\u001b[39;00m\n\u001b[0;32m   1362\u001b[0m \u001b[38;5;124;03m    \"\"\"\u001b[39;00m\n\u001b[1;32m-> 1363\u001b[0m     \u001b[43mos\u001b[49m\u001b[38;5;241;43m.\u001b[39;49m\u001b[43mrename\u001b[49m\u001b[43m(\u001b[49m\u001b[38;5;28;43mself\u001b[39;49m\u001b[43m,\u001b[49m\u001b[43m \u001b[49m\u001b[43mtarget\u001b[49m\u001b[43m)\u001b[49m\n\u001b[0;32m   1364\u001b[0m     \u001b[38;5;28;01mreturn\u001b[39;00m \u001b[38;5;28mself\u001b[39m\u001b[38;5;241m.\u001b[39mwith_segments(target)\n",
      "\u001b[1;31mFileNotFoundError\u001b[0m: [WinError 3] The system cannot find the path specified: 'sample_data\\\\README.md' -> 'test1\\\\README.md'"
     ]
    }
   ],
   "source": [
    "# Create a directory and move a file from one directory to another\n",
    "# using Pathlib.\n",
    "\n",
    "from pathlib import Path\n",
    "\n",
    "# Check to see if the \"test1\" subdirectory exists. If not, create it:\n",
    "dest_dir = Path(\"./test1/\")\n",
    "if not dest_dir.exists():\n",
    "  dest_dir.mkdir()\n",
    "\n",
    "# Construct source and destination paths:\n",
    "src_file = Path(\"./sample_data/README.md\")\n",
    "dest_file = dest_dir / \"README.md\"\n",
    "\n",
    "# Move the file from its original location to the destination:\n",
    "src_file.rename(dest_file)\n"
   ]
  }
 ],
 "metadata": {
  "kernelspec": {
   "display_name": "Python 3",
   "language": "python",
   "name": "python3"
  },
  "language_info": {
   "codemirror_mode": {
    "name": "ipython",
    "version": 3
   },
   "file_extension": ".py",
   "mimetype": "text/x-python",
   "name": "python",
   "nbconvert_exporter": "python",
   "pygments_lexer": "ipython3",
   "version": "3.12.6"
  }
 },
 "nbformat": 4,
 "nbformat_minor": 2
}
