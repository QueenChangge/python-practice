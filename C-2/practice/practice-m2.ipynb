{
 "cells": [
  {
   "cell_type": "code",
   "execution_count": null,
   "metadata": {},
   "outputs": [],
   "source": [
    "import os\n",
    "\n",
    "def create_python_script(filename):\n",
    "  comments = \"# Start of a new Python program\"\n",
    "  with open(filename, \"w\") as file:\n",
    "    file.write(comments)\n",
    "    \n",
    "  filesize = os.path.getsize(filename)\n",
    "  return(filesize)\n",
    "\n",
    "print(create_python_script(\"program.py\"))"
   ]
  },
  {
   "cell_type": "code",
   "execution_count": null,
   "metadata": {},
   "outputs": [],
   "source": [
    "import os\n",
    "\n",
    "def new_directory(directory, filename):\n",
    "  # Before creating a new directory, check to see if it already exists\n",
    "  if os.path.isdir(directory) == False:\n",
    "    os.mkdir(directory)\n",
    "\n",
    "  # Create the new file inside of the new directory\n",
    "  os.chdir(directory)\n",
    "  with open (filename, \"w\") as file:\n",
    "    pass\n",
    "\n",
    "  # Return the list of files in the new directory\n",
    "  return os.listdir()\n",
    "\n",
    "print(new_directory(\"PythonPrograms\", \"script.py\"))"
   ]
  },
  {
   "cell_type": "code",
   "execution_count": null,
   "metadata": {},
   "outputs": [],
   "source": [
    "import os\n",
    "import datetime\n",
    "\n",
    "def file_date(filename):\n",
    "  # Create the file in the current directory\n",
    "  with open(filename, \"w\") as file:\n",
    "    pass\n",
    "\n",
    "  timestamp = os.path.getmtime(filename)\n",
    "  # Convert the timestamp into a readable format, then into a string\n",
    "  dateportion = datetime.datetime.fromtimestamp(timestamp)\n",
    "  # Return just the date portion \n",
    "  # Hint: how many characters are in “yyyy-mm-dd”? \n",
    "  return (\"{}\".format(dateportion.strftime('%Y-%m-%d')))\n",
    "\n",
    "print(file_date(\"newfile.txt\")) \n",
    "# Should be today's date in the format of yyyy-mm-dd"
   ]
  },
  {
   "cell_type": "code",
   "execution_count": 2,
   "metadata": {},
   "outputs": [
    {
     "name": "stdout",
     "output_type": "stream",
     "text": [
      "d:\\KULIAH\\ME\\CATATAN\\COURSE\\Git-Hub\\coursera-practice\\C-2\n"
     ]
    }
   ],
   "source": [
    "import os\n",
    "def parent_directory():\n",
    "  # Create a relative path to the parent \n",
    "  # of the current working directory \n",
    "  relative_parent = os.path.join(os.getcwd(), \"..\")\n",
    "\n",
    "  # Return the absolute path of the parent directory\n",
    "  return os.path.abspath(relative_parent)\n",
    "\n",
    "print(parent_directory())"
   ]
  }
 ],
 "metadata": {
  "kernelspec": {
   "display_name": "Python 3",
   "language": "python",
   "name": "python3"
  },
  "language_info": {
   "codemirror_mode": {
    "name": "ipython",
    "version": 3
   },
   "file_extension": ".py",
   "mimetype": "text/x-python",
   "name": "python",
   "nbconvert_exporter": "python",
   "pygments_lexer": "ipython3",
   "version": "3.12.6"
  }
 },
 "nbformat": 4,
 "nbformat_minor": 2
}
