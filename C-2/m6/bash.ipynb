{
 "cells": [
  {
   "cell_type": "markdown",
   "metadata": {},
   "source": [
    "0 MEANS SUCCESS (TRUE)"
   ]
  },
  {
   "cell_type": "code",
   "execution_count": null,
   "metadata": {},
   "outputs": [],
   "source": [
    "# cat stdout_example.py \n",
    "# #!/usr/bin/env python3\n",
    "# print(\"Don't mind me, just a bit of text here...\")\n",
    "# ./stdout_example.py \n",
    "# #Output: Don't mind me, just a bit of text here...\n",
    "# ./stdout_example.py > new_file.txt\n",
    "# cat new_file.txt \n",
    "# #Output: Don't mind me, just a bit of text here...\n",
    "# ./stdout_example.py >> new_file.txt\n",
    "# cat new_file.txt \n",
    "# #Output: Don't mind me, just a bit of text here...\n",
    "#  #Don't mind me, just a bit of text here...\n",
    "# cat streams_err.py \n",
    "# #!/usr/bin/env python3\n",
    "\n",
    "# data = input(\"This will come from STDIN: \")\n",
    "# print(\"Now we write it to STDOUT: \" + data)\n",
    "# raise ValueError(\"Now we generate an error to STDERR\")\n",
    "# ./streams_err.py < new_file.txt\n",
    "# #This will come from STDIN: Now we write it to STDOUT: Don't mind #me, just a bit of text here...\n",
    "# #Traceback (most recent call last):\n",
    "#   #File \"./streams_err.py\", line 5, in <module>\n",
    "#     #raise ValueError(\"Now we generate an error to STDERR\")\n",
    "# #ValueError: Now we generate an error to STDERR\n",
    "# ./streams_err.py < new_file.txt 2> error_file.txt\n",
    "# #This will come from STDIN: Now we write it to STDOUT: Don't mind #me, just a bit of text here...\n",
    "# cat error_file.txt \n",
    "# #Traceback (most recent call last):\n",
    "#   #File \"./streams_err.py\", line 5, in <module>\n",
    "#     #raise ValueError(\"Now we generate an error to STDERR\")\n",
    "# #ValueError: Now we generate an error to STDERR\n",
    "# echo \"These are the contents of the file\" > myamazingfile.txt\n",
    "# cat myamazingfile.txt \n",
    "# #These are the contents of the file\n"
   ]
  },
  {
   "cell_type": "markdown",
   "metadata": {},
   "source": [
    "### CREATING BASH SCRIPT"
   ]
  },
  {
   "cell_type": "code",
   "execution_count": null,
   "metadata": {},
   "outputs": [],
   "source": [
    "# #!/bin/bash\n",
    "\n",
    "# echo \"Starting at: $(date)\"; echo\n",
    "\n",
    "# echo \"UPTIME\"; uptime; echo\n",
    "\n",
    "# echo \"FREE\"; free; echo\n",
    "\n",
    "# echo \"WHO\"; who; echo\n",
    "\n",
    "# echo \"Finishing at: $(date)\""
   ]
  },
  {
   "cell_type": "markdown",
   "metadata": {},
   "source": [
    "### USING VARIABLES"
   ]
  },
  {
   "cell_type": "code",
   "execution_count": null,
   "metadata": {},
   "outputs": [],
   "source": [
    "example=hello\n",
    "echo $example"
   ]
  },
  {
   "cell_type": "code",
   "execution_count": null,
   "metadata": {},
   "outputs": [],
   "source": [
    "#!/bin/bash\n",
    "\n",
    "line=\"-------------------------------------------------\"\n",
    "\n",
    "echo \"Starting at: $(date)\"; echo $line\n",
    "\n",
    "echo \"UPTIME\"; uptime; echo $line\n",
    "\n",
    "echo \"FREE\"; free; echo $line\n",
    "\n",
    "echo \"WHO\"; who; echo $line\n",
    "\n",
    "echo \"Finishing at: $(date)\""
   ]
  },
  {
   "cell_type": "markdown",
   "metadata": {},
   "source": [
    "Asterisk (*)\n",
    "\n",
    "The asterisk acts as a wildcard, matching any number of characters in a filename. Here are a few examples:\n",
    "\n",
    "*.txt: This pattern will match all files in the current directory that end with \".txt\", like \"document.txt\", \"notes.txt\", \"report.txt\", and so on.\n",
    "image_*.jpg: This pattern will match all files that start with \"image_\" and end with \".jpg\", such as \"image_001.jpg\", \"image_002.jpg\", etc.\n",
    "data*: This pattern will match all files that start with \"data\", regardless of the file extension, like \"data.csv\", \"data1.txt\", \"data_analysis.py\", and others.\n",
    "Question Mark (?)\n",
    "\n",
    "The question mark is a wildcard for a single character. Here's how you can use it:\n",
    "\n",
    "file?.txt: This pattern will match files named \"file1.txt\", \"file2.txt\", \"fileA.txt\", and so on, but it won't match \"file.txt\" or \"file10.txt\".\n",
    "log_2023-??-??.txt: This pattern will match files named \"log_2023-01-01.txt\", \"log_2023-12-31.txt\", etc., matching any two characters in place of the question marks.\n",
    "Combining Globs\n",
    "\n",
    "You can combine the asterisk and question mark to create more specific patterns:\n",
    "\n",
    "image_???.png: This pattern will match files named \"image_001.png\", \"image_abc.png\", but not \"image_1.png\" or \"image_1234.png\"."
   ]
  },
  {
   "cell_type": "markdown",
   "metadata": {},
   "source": [
    "### CONDITIONAL BASK SCRIPT\n",
    "In Bash scripting, the condition used in conditional execution is based on the exit status of commands.\n",
    "\n",
    "test is a command that evaluates the conditions received and exits with zero when they’re true and with one when they’re false.\n",
    "\n",
    "The test command can be called with square brackets ([])."
   ]
  },
  {
   "cell_type": "code",
   "execution_count": null,
   "metadata": {},
   "outputs": [],
   "source": [
    "if test -n \"$PATH\"; then echo \"Your path is not empty\"; fi"
   ]
  },
  {
   "cell_type": "code",
   "execution_count": null,
   "metadata": {},
   "outputs": [],
   "source": [
    "if [ -n \"$PATH\" ]; then echo \"Your path is not empty\"; fi"
   ]
  }
 ],
 "metadata": {
  "language_info": {
   "name": "python"
  }
 },
 "nbformat": 4,
 "nbformat_minor": 2
}
