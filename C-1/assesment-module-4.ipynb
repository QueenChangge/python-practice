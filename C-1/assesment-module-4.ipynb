{
 "cells": [
  {
   "cell_type": "code",
   "execution_count": null,
   "metadata": {},
   "outputs": [],
   "source": [
    "def confirm_length(word):\n",
    "\n",
    "    # Complete the condition statement using a string operation. \n",
    "    if len(word) > 0:\n",
    "        # Complete the return statement using a string operation.\n",
    "        return len(word)\n",
    "    else:\n",
    "        return 0\n",
    "\n",
    "\n",
    "print(confirm_length(\"a\")) # Should print 1\n",
    "print(confirm_length(\"This is a long string\")) # Should print 21\n",
    "print(confirm_length(\"Monday\")) # Should print 6\n",
    "print(confirm_length(\"\")) # Should print 0"
   ]
  },
  {
   "cell_type": "code",
   "execution_count": null,
   "metadata": {},
   "outputs": [],
   "source": [
    "def string_words(string):\n",
    "    # Complete the return statement using both a string operation and \n",
    "    # a string method in a single line.\n",
    "    return len(string.split())\n",
    "\n",
    "\n",
    "print(string_words(\"Hello, World\")) # Should print 2\n",
    "print(string_words(\"Python is awesome\")) # Should print 3\n",
    "print(string_words(\"Keep going\")) # Should print 2\n",
    "print(string_words(\"Have a nice day\")) # Should print 4"
   ]
  },
  {
   "cell_type": "code",
   "execution_count": null,
   "metadata": {},
   "outputs": [],
   "source": [
    "def combine_lists(list1, list2):\n",
    "\n",
    "\n",
    "  combined_list = [] # Initialize an empty list variable\n",
    "  list1.reverse() # Reverse the order of \"list1\"\n",
    "  list2.extend(list1) # Combine the two lists \n",
    "  combined_list = list2\n",
    "  return combined_list  \n",
    "  \n",
    "Jaimes_list = [\"Alma\", \"Chika\", \"Benjamin\", \"Jocelyn\", \"Oakley\"]\n",
    "Drews_list = [\"Minna\", \"Carol\", \"Gunnar\", \"Malena\"]\n",
    "\n",
    "\n",
    "print(combine_lists(Jaimes_list, Drews_list))\n",
    "# Should print ['Minna', 'Carol', 'Gunnar', 'Malena', 'Oakley', 'Jocelyn', 'Benjamin', 'Chika', 'Alma']\n"
   ]
  },
  {
   "cell_type": "code",
   "execution_count": null,
   "metadata": {},
   "outputs": [],
   "source": [
    "def squares(start, end):\n",
    "    return [ x**2 for x in range(start, end+1) ] # Create the required list comprehension.\n",
    "\n",
    "\n",
    "print(squares(2, 3)) # Should print [4, 9]\n",
    "print(squares(1, 5)) # Should print [1, 4, 9, 16, 25]\n",
    "print(squares(0, 10)) # Should print [0, 1, 4, 9, 16, 25, 36, 49, 64, 81, 100]"
   ]
  },
  {
   "cell_type": "code",
   "execution_count": null,
   "metadata": {},
   "outputs": [],
   "source": [
    "def endangered_animals(animal_dict):\n",
    "    result = \"\"\n",
    "    # Complete the for loop to iterate through the key and value items \n",
    "    # in the dictionary.    \n",
    "    for animal, amount in animal_dict.items():\n",
    "        # Use a string method to format the required string.\n",
    "        result += animal + \"\\n\"\n",
    "    return result\n",
    "\n",
    "\n",
    "print(endangered_animals({\"Javan Rhinoceros\":60, \"Vaquita\":10, \"Mountain Gorilla\":200, \"Tiger\":500}))\n",
    "\n",
    "# Should print:\n",
    "# Javan Rhinoceros\n",
    "# Vaquita\n",
    "# Mountain Gorilla\n",
    "# Tiger"
   ]
  },
  {
   "cell_type": "code",
   "execution_count": null,
   "metadata": {},
   "outputs": [],
   "source": [
    "def setup_guests(guest_list):\n",
    "    # loop over the guest list and add each guest to the dictionary with\n",
    "    # an initial value of 0\n",
    "    result = {} # Initialize a new dictionary \n",
    "    for guest in guest_list: # Iterate over the elements in the list \n",
    "        result[guest] = 0 # Add each list element to the dictionary as a key with \n",
    "            # the starting value of 0\n",
    "    return result\n",
    "\n",
    "guests = [\"Adam\",\"Camila\",\"David\",\"Jamal\",\"Charley\",\"Titus\",\"Raj\",\"Noemi\",\"Sakira\",\"Chidi\"]\n",
    "\n",
    "print(setup_guests(guests))\n",
    "# Should print {'Adam': 0, 'Camila': 0, 'David': 0, 'Jamal': 0, 'Charley': 0, 'Titus': 0, 'Raj': 0, 'Noemi': 0, 'Sakira': 0, 'Chidi': 0}"
   ]
  },
  {
   "cell_type": "code",
   "execution_count": null,
   "metadata": {},
   "outputs": [],
   "source": [
    "def count_letters(text):\n",
    "  # Initialize a new dictionary.\n",
    "  dictionary = {}\n",
    "  # Complete the for loop to iterate through each \"text\" character and \n",
    "  # use a string method to ensure all letters are lowercase.\n",
    "  for letter in text.lower():   \n",
    "    # Complete the if-statement using a string method to check if the\n",
    "    # character is a letter.\n",
    "    if letter.isalpha(): \n",
    "      # Complete the if-statement using a logical operator to check if \n",
    "      # the letter is not already in the dictionary.\n",
    "      if letter not in dictionary:\n",
    "           # Use a dictionary operation to add the letter as a key\n",
    "           # and set the initial count value to zero.\n",
    "           dictionary[letter] = 0\n",
    "      # Use a dictionary operation to increment the letter count value \n",
    "      # for the existing key.\n",
    "      dictionary[letter] += 1\n",
    "  return dictionary\n",
    "\n",
    "print(count_letters(\"AaBbCc\"))\n",
    "# Should be {'a': 2, 'b': 2, 'c': 2}\n",
    "\n",
    "print(count_letters(\"Math is fun! 2+2=4\"))\n",
    "# Should be {'m': 1, 'a': 1, 't': 1, 'h': 1, 'i': 1, 's': 1, 'f': 1, 'u': 1, 'n': 1}\n",
    "\n",
    "print(count_letters(\"This is a sentence.\"))\n",
    "# Should be {'t': 2, 'h': 1, 'i': 2, 's': 3, 'a': 1, 'e': 3, 'n': 2, 'c': 1}"
   ]
  },
  {
   "cell_type": "code",
   "execution_count": 1,
   "metadata": {},
   "outputs": [
    {
     "name": "stdout",
     "output_type": "stream",
     "text": [
      "bor\n",
      "hini\n",
      "Lamborg\n"
     ]
    }
   ],
   "source": [
    "car_make = \"Lamborghini\"\n",
    "\n",
    "print(car_make[3:-5])\n",
    "print(car_make[-4:])\n",
    "print(car_make[:7])"
   ]
  },
  {
   "cell_type": "code",
   "execution_count": 3,
   "metadata": {},
   "outputs": [
    {
     "data": {
      "text/plain": [
       "['red', 'white', 'yellow', 'blue']"
      ]
     },
     "execution_count": 3,
     "metadata": {},
     "output_type": "execute_result"
    }
   ],
   "source": [
    "colors = [\"red\", \"white\", \"blue\"]\n",
    "colors.insert(2, \"yellow\")\n",
    "colors"
   ]
  },
  {
   "cell_type": "code",
   "execution_count": 4,
   "metadata": {},
   "outputs": [
    {
     "data": {
      "text/plain": [
       "{'Math': 'Aniyah Cook',\n",
       " 'Science': 'Ines Bisset',\n",
       " 'Engineering': 'Wayne Branon'}"
      ]
     },
     "execution_count": 4,
     "metadata": {},
     "output_type": "execute_result"
    }
   ],
   "source": [
    "teacher_names = {\"Math\": \"Aniyah Cook\", \"Science\": \"Ines Bisset\", \"Engineering\": \"Wayne Branon\"}\n",
    "teacher_names.values()\n",
    "teacher_names"
   ]
  },
  {
   "cell_type": "markdown",
   "metadata": {},
   "source": []
  },
  {
   "cell_type": "code",
   "execution_count": 5,
   "metadata": {},
   "outputs": [
    {
     "name": "stdout",
     "output_type": "stream",
     "text": [
      "dict_values(['Aniyah Cook', 'Ines Bisset', 'Wayne Branon'])\n"
     ]
    }
   ],
   "source": [
    "teacher_names = {\"Math\": \"Aniyah Cook\", \"Science\": \"Ines Bisset\", \"Engineering\": \"Wayne Branon\"}\n",
    "print(teacher_names.values())"
   ]
  }
 ],
 "metadata": {
  "kernelspec": {
   "display_name": "Python 3",
   "language": "python",
   "name": "python3"
  },
  "language_info": {
   "codemirror_mode": {
    "name": "ipython",
    "version": 3
   },
   "file_extension": ".py",
   "mimetype": "text/x-python",
   "name": "python",
   "nbconvert_exporter": "python",
   "pygments_lexer": "ipython3",
   "version": "3.12.6"
  }
 },
 "nbformat": 4,
 "nbformat_minor": 2
}
