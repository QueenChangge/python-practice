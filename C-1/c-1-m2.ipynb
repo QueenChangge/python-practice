{
 "cells": [
  {
   "cell_type": "code",
   "execution_count": 1,
   "metadata": {},
   "outputs": [
    {
     "name": "stdout",
     "output_type": "stream",
     "text": [
      "4096\n",
      "4096\n",
      "8192\n",
      "8192\n"
     ]
    }
   ],
   "source": [
    "def calculate_storage(filesize):\n",
    "    block_size = 4096\n",
    "    # Use floor division to calculate how many blocks are fully occupied\n",
    "    full_blocks = filesize // block_size\n",
    "    # Use the modulo operator to check whether there's any remainder\n",
    "    partial_block_remainder = filesize % block_size\n",
    "    # Depending on whether there's a remainder or not, return\n",
    "    # the total number of bytes required to allocate enough blocks\n",
    "    # to store your data.\n",
    "    if partial_block_remainder > 0:\n",
    "        return (block_size * full_blocks) + block_size\n",
    "    return block_size * full_blocks\n",
    "\n",
    "print(calculate_storage(1))    # Should be 4096\n",
    "print(calculate_storage(4096)) # Should be 4096\n",
    "print(calculate_storage(4097)) # Should be 8192\n",
    "print(calculate_storage(6000)) # Should be 8192"
   ]
  },
  {
   "cell_type": "code",
   "execution_count": 2,
   "metadata": {},
   "outputs": [
    {
     "name": "stdout",
     "output_type": "stream",
     "text": [
      "120\n",
      "-2\n",
      "False\n",
      "This comparison is True\n",
      "0\n"
     ]
    }
   ],
   "source": [
    "# Example 1\n",
    "# Evaluate the output of this print statement\n",
    "\n",
    "def product(a, b):\n",
    "        return(a*b)\n",
    "\n",
    "print(product(product(2,4), product(3,5)))\n",
    " \n",
    "#################################\n",
    "\n",
    "# Example 2 \n",
    "# Evaluate the output of this print statement\n",
    "\n",
    "def difference(a, b):\n",
    "        return(a-b)\n",
    "\n",
    "def sum(a, b):\n",
    "        return(a+b)\n",
    "\n",
    "print(difference(sum(2,2), sum(3,3)))\n",
    "\n",
    "\n",
    "#################################\n",
    "\n",
    "\n",
    "# Example 3\n",
    "# Evaluate the Boolean output of this comparison\n",
    "\n",
    "\n",
    "print((5 >= 2*4) and (5 <= 4*3))\n",
    "\n",
    "\n",
    "#################################\n",
    "\n",
    "\n",
    "# Example 4 \n",
    "# Evaluate the value of the comparison in the if statement \n",
    "\n",
    "\n",
    "x = 3\n",
    "if x+5 > x**2 or x % 4 != 0:\n",
    "        print(\"This comparison is True\")\n",
    "\n",
    "\n",
    "#################################\n",
    "\n",
    "\n",
    "# Example 5 \n",
    "# Evaluate the output of this if-elif-else statement\n",
    "\n",
    "\n",
    "number = 6\n",
    "if number * 2 < 14:\n",
    "        print(number * 6 % 3)\n",
    "elif number > 7:\n",
    "        print(100 / number)\n",
    "else:\n",
    "        print(7 - number)\n",
    "\n",
    "\n",
    "# Click Run to check your answers. If you are having trouble \n",
    "# calculating the correct answers manually, please review the\n",
    "# Practice Quiz Study Guides, videos, and readings in this Module.\n"
   ]
  },
  {
   "cell_type": "code",
   "execution_count": 3,
   "metadata": {},
   "outputs": [
    {
     "name": "stdout",
     "output_type": "stream",
     "text": [
      "10\n"
     ]
    }
   ],
   "source": [
    "def sum(x, y):\n",
    "    return(x+y)\n",
    "\n",
    "print(sum(sum(1,2), sum(3,4)))"
   ]
  },
  {
   "cell_type": "markdown",
   "metadata": {},
   "source": [
    "## Multiplying"
   ]
  },
  {
   "cell_type": "code",
   "execution_count": 4,
   "metadata": {},
   "outputs": [
    {
     "name": "stdout",
     "output_type": "stream",
     "text": [
      "3x1=3\n",
      "3x2=6\n",
      "3x3=9\n",
      "3x4=12\n",
      "3x5=15\n",
      "5x1=5\n",
      "5x2=10\n",
      "5x3=15\n",
      "5x4=20\n",
      "5x5=25\n",
      "8x1=8\n",
      "8x2=16\n",
      "8x3=24\n"
     ]
    }
   ],
   "source": [
    "def multiplication_table(number):\n",
    "    # Initialize the appropriate variable\n",
    "    multiplier = 1\n",
    "\n",
    "\n",
    "    # Complete the while loop condition.\n",
    "    while multiplier <= 5:\n",
    "        result = number * multiplier \n",
    "        if  result > 25:\n",
    "            # Enter the action to take if the result > 25\n",
    "            break\n",
    "        print(str(number) + \"x\" + str(multiplier) + \"=\" + str(result))\n",
    "        \n",
    "        # Increment the appropriate variable\n",
    "        multiplier += 1\n",
    "\n",
    "\n",
    "\n",
    "\n",
    "multiplication_table(3) \n",
    "# Should print: \n",
    "# 3x1=3 \n",
    "# 3x2=6 \n",
    "# 3x3=9 \n",
    "# 3x4=12 \n",
    "# 3x5=15\n",
    "\n",
    "\n",
    "multiplication_table(5) \n",
    "# Should print: \n",
    "# 5x1=5\n",
    "# 5x2=10\n",
    "# 5x3=15\n",
    "# 5x4=20\n",
    "# 5x5=25\n",
    "\n",
    "\n",
    "multiplication_table(8) \n",
    "# Should print:\n",
    "# 8x1=8\n",
    "# 8x2=16\n",
    "# 8x3=24"
   ]
  },
  {
   "cell_type": "markdown",
   "metadata": {},
   "source": []
  },
  {
   "cell_type": "code",
   "execution_count": 5,
   "metadata": {},
   "outputs": [
    {
     "name": "stdout",
     "output_type": "stream",
     "text": [
      "* \n",
      "* * \n",
      "* * * \n",
      "* * * * \n",
      "* * * * * \n",
      "* * * * * * \n",
      "* * * * * * * \n"
     ]
    }
   ],
   "source": [
    "for left in range(7):\n",
    "    n = 0\n",
    "    for right in range(n, left + 1):\n",
    "        print(\"*\", end=\" \")\n",
    "    print()\n",
    "    n = n + 1\n",
    "\n",
    "\n",
    "\n",
    "\n",
    "\n",
    "# for left in range(7):\n",
    "#   for right in range(left, 7):\n",
    "#     print(\"[\" + str(left) + \"|\" + str(right) + \"]\", end=\" \")\n",
    "#   print()"
   ]
  },
  {
   "cell_type": "code",
   "execution_count": 6,
   "metadata": {},
   "outputs": [
    {
     "name": "stdout",
     "output_type": "stream",
     "text": [
      "This is the outer loop iteration number 0\n",
      "Inner loop iteration number 0\n",
      "Inner loop iteration number 1\n",
      "Inner loop iteration number 2\n",
      "Inner loop iteration number 3\n",
      "Exit inner loop\n",
      "This is the outer loop iteration number 1\n",
      "Inner loop iteration number 0\n",
      "Inner loop iteration number 1\n",
      "Inner loop iteration number 2\n",
      "Inner loop iteration number 3\n",
      "Exit inner loop\n"
     ]
    }
   ],
   "source": [
    "## HOW NESTED LOOPS WORKING\n",
    "for x in range(2):\n",
    "    print(\"This is the outer loop iteration number \" + str(x))\n",
    "    for y in range(3+1):\n",
    "        print(\"Inner loop iteration number \" + str(y))\n",
    "    print(\"Exit inner loop\")"
   ]
  },
  {
   "cell_type": "code",
   "execution_count": 7,
   "metadata": {},
   "outputs": [
    {
     "name": "stdout",
     "output_type": "stream",
     "text": [
      "Dragons vs Wolves\n",
      "Dragons vs Pandas\n",
      "Dragons vs Unicorns\n",
      "Wolves vs Dragons\n",
      "Wolves vs Pandas\n",
      "Wolves vs Unicorns\n",
      "Pandas vs Dragons\n",
      "Pandas vs Wolves\n",
      "Pandas vs Unicorns\n",
      "Unicorns vs Dragons\n",
      "Unicorns vs Wolves\n",
      "Unicorns vs Pandas\n"
     ]
    }
   ],
   "source": [
    "teams = [ 'Dragons', 'Wolves', 'Pandas', 'Unicorns']\n",
    "for home_team in teams:\n",
    "  for away_team in teams:\n",
    "    if home_team != away_team:\n",
    "      print(home_team + \" vs \" + away_team)"
   ]
  },
  {
   "cell_type": "code",
   "execution_count": 8,
   "metadata": {},
   "outputs": [
    {
     "name": "stdout",
     "output_type": "stream",
     "text": [
      "Going up: 1 | 2 | 3 | 4\n",
      "Going down: 6 | 5 | 4 | 3 | 2\n"
     ]
    }
   ],
   "source": [
    "# This function will accept two integer variables: the floor\n",
    "# number that a passenger \"enter\"s an elevator and the floor\n",
    "# number the passenger is going to \"exit\". Then, the function\n",
    "# counts up or down from the two floor numbers.\n",
    "def elevator_floor(enter, exit):\n",
    "    # The \"floor\" variable will be used as a counter and to  \n",
    "    # print the floor numbers. The \"elevator_direction\"\n",
    "    # variable will hold the string \"Going up: \" or \n",
    "    # \"Going down: \" plus the count up or down of the \n",
    "    # \"floor\" numbers.\n",
    "    floor = enter\n",
    "    elevator_direction = \"\"\n",
    "\n",
    "    # If the passenger enters the elevator on a floor that  \n",
    "    # is higher than the destination floor:\n",
    "    if enter > exit:\n",
    "        \n",
    "        # Then the \"elevator_direction\" string will be \n",
    "        # initialized with the string \"Going down: \".\n",
    "        elevator_direction = \"Going down: \"\n",
    "\n",
    "        # While the \"floor\" number is greater than or  \n",
    "        # equal to the exit floor number:\n",
    "        while floor >= exit:\n",
    "            # The \"floor\" number is converted to a string \n",
    "            # and is appended to the string variable \n",
    "            # \"elevator_direction\".\n",
    "            elevator_direction += str(floor)\n",
    "\n",
    "            # If the \"floor\" number is still greater than  \n",
    "            # the exit floor number:\n",
    "            if floor > exit:\n",
    "\n",
    "                # A pipe | character is added between each  \n",
    "                # floor number in the string variable  \n",
    "                # \"elevator_direction\" to provide a visual  \n",
    "                # divider between numbers. The if-statement \n",
    "                # above (if floor > exit) prevents the pipe \n",
    "                # character from appearing after the \"floor\" \n",
    "                # number is no longer greater than the \"exit\" \n",
    "                # variable. \n",
    "                elevator_direction += \" | \"\n",
    "                \n",
    "                # Decrement the \"floor\" number as the elevator \n",
    "                # goes down.\n",
    "            floor -= 1\n",
    "\n",
    "    # Else, it is implied that the passenger is entering the  \n",
    "    # elevator on a floor that is lower than the destination \n",
    "    # floor.\n",
    "    else:\n",
    "\n",
    "        # The \"elevator_direction\" string will be initialized \n",
    "        # with the string \"Going up: \".\n",
    "        elevator_direction = \"Going up: \"\n",
    "        \n",
    "        # While the \"floor\" number is less than or equal to the \n",
    "        # \"exit\" floor number:\n",
    "        while floor <= exit:\n",
    "\n",
    "            # Convert the the \"floor\" number to a string and append \n",
    "            # it to the string variable \"elevator_direction\".\n",
    "            elevator_direction += str(floor)\n",
    "\n",
    "            # If the entry floor number is still less than the exit \n",
    "            # floor number:\n",
    "            if floor < exit:\n",
    "\n",
    "                # The pipe | character is added between each  \n",
    "                # floor number in the string variable  \n",
    "                # \"elevator_direction\" to provide a visual  \n",
    "                # divider between numbers. The if-statement \n",
    "                # above (if floor < exit) prevents the pipe \n",
    "                # character from appearing after the \"floor\" \n",
    "                # number is no longer less than the \"exit\" \n",
    "                # variable. \n",
    "                elevator_direction += \" | \"\n",
    "\n",
    "            # Increments the \"floor\" number as the elevator goes up.\n",
    "            floor += 1\n",
    "\n",
    "    # Returns the string holding the elevator direction (Going down or \n",
    "    # Going up) along with the floor countdown or count up.\n",
    "    return elevator_direction\n",
    "\n",
    "\n",
    "# Call the function with 2 integer parameters. \n",
    "print(elevator_floor(1,4)) # Should print Going up: 1 | 2 | 3 | 4\n",
    "print(elevator_floor(6,2)) # Should print Going down: 6 | 5 | 4 | 3 | 2\n"
   ]
  },
  {
   "cell_type": "code",
   "execution_count": 9,
   "metadata": {},
   "outputs": [
    {
     "name": "stdout",
     "output_type": "stream",
     "text": [
      "2 3 4 5 6\n",
      "3 4 5 6 7 8 9 10\n",
      "-1 0 1\n",
      "0 1 2 3 4 5\n",
      "0\n"
     ]
    }
   ],
   "source": [
    "def all_numbers(minimum, maximum):\n",
    "\n",
    "    return_string = \"\" # Initializes variable as a string\n",
    "\n",
    "    # Complete the for loop with a range that includes all \n",
    "    # numbers up to and including the \"maximum\" value.\n",
    "    for i in range(minimum, maximum + 1):\n",
    "\n",
    "        # Complete the body of the loop by appending the number\n",
    "        # followed by a space to the \"return_string\" variable.\n",
    "        return_string += str(i) + \" \"\n",
    "\n",
    "    # This .strip command will remove the final \" \" space \n",
    "    # at the end of the \"return_string\".\n",
    "    return return_string.strip()\n",
    "\n",
    "\n",
    "print(all_numbers(2,6))  # Should be 2 3 4 5 6\n",
    "print(all_numbers(3,10)) # Should be 3 4 5 6 7 8 9 10\n",
    "print(all_numbers(-1,1)) # Should be -1 0 1\n",
    "print(all_numbers(0,5))  # Should be 0 1 2 3 4 5\n",
    "print(all_numbers(0,0))  # Should be 0"
   ]
  },
  {
   "cell_type": "markdown",
   "metadata": {},
   "source": [
    "## LIST COMPREHENSIONS"
   ]
  },
  {
   "cell_type": "code",
   "execution_count": 10,
   "metadata": {},
   "outputs": [
    {
     "name": "stdout",
     "output_type": "stream",
     "text": [
      "[1, 4, 9, 16, 25]\n"
     ]
    }
   ],
   "source": [
    "numbers = [1, 2, 3, 4, 5]\n",
    "squared_numbers = [x ** 2 for x in numbers]\n",
    "print(squared_numbers)"
   ]
  },
  {
   "cell_type": "code",
   "execution_count": 11,
   "metadata": {},
   "outputs": [
    {
     "name": "stdout",
     "output_type": "stream",
     "text": [
      "0\n",
      "2\n",
      "4\n",
      "6\n",
      "[0, 2, 4, 6]\n"
     ]
    }
   ],
   "source": [
    "for x in range(7):\n",
    "    if x % 2 == 0:\n",
    "        print(x)\n",
    "\n",
    "# The loop should print 0, 2, 4, 6\n",
    "\n",
    "# As a list comprehension:\n",
    "even_numbers = [x for x in range(7) if x % 2 == 0]\n",
    "print(even_numbers)"
   ]
  },
  {
   "cell_type": "code",
   "execution_count": 12,
   "metadata": {},
   "outputs": [
    {
     "name": "stdout",
     "output_type": "stream",
     "text": [
      "[0, 2, 4, 6, 8]\n",
      "[0, 2, 4, 6, 8]\n"
     ]
    }
   ],
   "source": [
    "sequence = range(10)\n",
    "new_list_with_append = []\n",
    "for x in sequence:\n",
    "    if x % 2 == 0:\n",
    "        new_list_with_append.append(x)\n",
    "\n",
    "print(new_list_with_append)\n",
    "\n",
    "sequence = range(10)\n",
    "new_list_comprehensions = [x for x in sequence if x % 2 == 0]\n",
    "print(new_list_comprehensions)"
   ]
  },
  {
   "cell_type": "code",
   "execution_count": 13,
   "metadata": {},
   "outputs": [
    {
     "name": "stdout",
     "output_type": "stream",
     "text": [
      "o\n",
      "u\n",
      "o\n",
      "e\n",
      "a\n",
      "e\n",
      "e\n",
      "e\n",
      "a\n",
      "a\n",
      "o\n",
      "['o', 'u', 'o', 'e', 'a', 'e', 'e', 'e', 'a', 'a', 'o']\n"
     ]
    }
   ],
   "source": [
    "input = \"Four score and seven years ago\"\n",
    "for c in input:\n",
    "  if c.lower() in ['a', 'e', 'i', 'o', 'u']:\n",
    "    print(c)\n",
    "\n",
    "print([c for c in input if c.lower() in ['a', 'e', 'i', 'o', 'u']])\n",
    "\n"
   ]
  },
  {
   "cell_type": "markdown",
   "metadata": {},
   "source": [
    "## Map Used"
   ]
  },
  {
   "cell_type": "code",
   "execution_count": 14,
   "metadata": {},
   "outputs": [
    {
     "data": {
      "text/plain": [
       "9"
      ]
     },
     "execution_count": 14,
     "metadata": {},
     "output_type": "execute_result"
    }
   ],
   "source": [
    "def square(x):\n",
    "    return x*x\n",
    "\n",
    "numbers=[1, 2, 3, 4, 5] \n",
    "sqrs_of_numbers=map(square, numbers)\n",
    "next(sqrs_of_numbers)     \n",
    "next(sqrs_of_numbers)  \n",
    "next(sqrs_of_numbers)  "
   ]
  },
  {
   "cell_type": "code",
   "execution_count": 15,
   "metadata": {},
   "outputs": [
    {
     "name": "stdout",
     "output_type": "stream",
     "text": [
      "1\n",
      "2\n",
      "3\n",
      "4\n",
      "5\n"
     ]
    }
   ],
   "source": [
    "nums = [1,2,3,4,5]\n",
    "numitr = iter(nums)\n",
    "\n",
    "print(next(numitr)) # prints 1\n",
    "print(next(numitr)) # prints 2\n",
    "print(next(numitr)) # prints 3\n",
    "print(next(numitr)) # prints 4\n",
    "print(next(numitr)) # prints 5"
   ]
  },
  {
   "cell_type": "code",
   "execution_count": 16,
   "metadata": {},
   "outputs": [
    {
     "data": {
      "text/plain": [
       "[10, 400, 27000, 2560000, 312500000]"
      ]
     },
     "execution_count": 16,
     "metadata": {},
     "output_type": "execute_result"
    }
   ],
   "source": [
    "# USING POW (BUILT IN FUNCTION)\n",
    "\n",
    "bases=[10, 20, 30, 40, 50]\n",
    "index=[1, 2, 3, 4, 5]\n",
    "powers=list(map(pow, bases, index))\n",
    "powers "
   ]
  },
  {
   "cell_type": "markdown",
   "metadata": {},
   "source": [
    "## LAMBDA / DEFINE ANONYMUS FUNCTION WITH QUICK ACCESS"
   ]
  },
  {
   "cell_type": "code",
   "execution_count": 17,
   "metadata": {},
   "outputs": [
    {
     "name": "stdout",
     "output_type": "stream",
     "text": [
      "Hello  Steve\n"
     ]
    }
   ],
   "source": [
    "greet = lambda name: print('Hello ', name) \n",
    "greet('Steve')  #output: Hello Steve"
   ]
  },
  {
   "cell_type": "markdown",
   "metadata": {},
   "source": [
    "## ZIP, LIST, DICT"
   ]
  },
  {
   "cell_type": "code",
   "execution_count": 18,
   "metadata": {},
   "outputs": [
    {
     "name": "stdout",
     "output_type": "stream",
     "text": [
      "[('India', 'Kohli'), ('England', 'Root'), ('NZ', 'Williaamson'), ('Aus', 'Smith')]\n",
      "{'India': 'Kohli', 'England': 'Root', 'NZ': 'Williaamson', 'Aus': 'Smith'}\n"
     ]
    }
   ],
   "source": [
    "teams = [\"India\", \"England\", \"NZ\", \"Aus\"]\n",
    "captains = [\"Kohli\",\"Root\",\"Williaamson\", \"Smith\"]\n",
    "zipped = zip(teams,captains)\n",
    "ziplist = list(zipped)\n",
    "print(ziplist)\n",
    "\n",
    "zipped = zip(teams,captains)\n",
    "zipdict = dict(zipped)\n",
    "print(zipdict)"
   ]
  },
  {
   "cell_type": "markdown",
   "metadata": {},
   "source": [
    "## SLICING"
   ]
  },
  {
   "cell_type": "code",
   "execution_count": 19,
   "metadata": {},
   "outputs": [
    {
     "name": "stdout",
     "output_type": "stream",
     "text": [
      "G\n",
      "tings\n",
      "tingsGreet\n",
      "Earthlings\n",
      "Greet\n",
      "Earthlings\n"
     ]
    }
   ],
   "source": [
    "string1 = \"Greetings, Earthlings\"\n",
    "print(string1[0])   # Prints “G”\n",
    "print(string1[4:9]) # Prints “tings”\n",
    "print(string1[4:9] + string1[:5]) #tingsGreet\n",
    "print(string1[11:]) # Prints “Earthlings”\n",
    "print(string1[:5])  # Prints “Greet”\n",
    "print(string1[-10:]) # Prints “Earthlings” again"
   ]
  },
  {
   "cell_type": "code",
   "execution_count": 20,
   "metadata": {},
   "outputs": [
    {
     "name": "stdout",
     "output_type": "stream",
     "text": [
      "(202) 555-1212\n"
     ]
    }
   ],
   "source": [
    "def format_phone(phonenum):\n",
    "    area_code = \"(\" + phonenum[:3] + \")\"\n",
    "    exchange = phonenum[3:6]\n",
    "    line = phonenum[-4:]\n",
    "    return area_code + \" \" + exchange + \"-\" + line\n",
    "\n",
    "\n",
    "print(format_phone(\"2025551212\")) # Outputs: (202) 555-1212"
   ]
  },
  {
   "cell_type": "code",
   "execution_count": 21,
   "metadata": {},
   "outputs": [
    {
     "name": "stdout",
     "output_type": "stream",
     "text": [
      "False\n",
      "True\n",
      "21\n"
     ]
    }
   ],
   "source": [
    "# indexing\n",
    "pets=\"Cats & Dogs\"\n",
    "pets.index(\"&\")\n",
    "pets.index(\"C\")\n",
    "pets.index(\"Dog\")\n",
    "pets.index(\"s\")\n",
    "\n",
    "print(\"Dragons\" in pets)\n",
    "print(\"Cats\" in pets)\n",
    "\n",
    "word = \"supercalifragilisticexpialidocious\"\n",
    "print(word.index('x'))"
   ]
  },
  {
   "cell_type": "code",
   "execution_count": 22,
   "metadata": {},
   "outputs": [
    {
     "name": "stdout",
     "output_type": "stream",
     "text": [
      "agungcitra0103@yahoo.com\n"
     ]
    }
   ],
   "source": [
    "def replace_domain(email, old_domain, new_domain):\n",
    "  if \"@\" + old_domain in email:\n",
    "    index = email.index(\"@\" + old_domain)\n",
    "    new_email = email[:index] + \"@\" + new_domain\n",
    "    return new_email\n",
    "  return email\n",
    "\n",
    "print(replace_domain(\"agungcitra0103@gmail.com\", \"gmail.com\", \"yahoo.com\"))"
   ]
  },
  {
   "cell_type": "code",
   "execution_count": 23,
   "metadata": {},
   "outputs": [
    {
     "name": "stdout",
     "output_type": "stream",
     "text": [
      "It's raining dogs\n",
      "She sells donuts\n",
      "The weather is nice in May\n",
      "The weather is nice in April\n"
     ]
    }
   ],
   "source": [
    "def replace_ending(sentence, old, new):\n",
    "    # Check if the old substring is at the end of the sentence \n",
    "    if \" \" + old in sentence:\n",
    "        # Using i as the slicing index, combine the part\n",
    "        # of the sentence up to the matched string at the \n",
    "        # end with the new string\n",
    "        i = sentence.index(\" \" + old)\n",
    "        new_sentence = sentence[:i] + \" \" + new\n",
    "        return new_sentence\n",
    "\n",
    "\n",
    "    # Return the original sentence if there is no match \n",
    "    return sentence\n",
    "    \n",
    "print(replace_ending(\"It's raining cats and cats\", \"cats\", \"dogs\")) \n",
    "# Should display \"It's raining cats and dogs\"\n",
    "print(replace_ending(\"She sells seashells by the seashore\", \"seashells\", \"donuts\")) \n",
    "# Should display \"She sells seashells by the seashore\"\n",
    "print(replace_ending(\"The weather is nice in May\", \"may\", \"april\")) \n",
    "# Should display \"The weather is nice in May\"\n",
    "print(replace_ending(\"The weather is nice in May\", \"May\", \"April\")) \n",
    "# Should display \"The weather is nice in April\"\n"
   ]
  },
  {
   "cell_type": "code",
   "execution_count": 24,
   "metadata": {},
   "outputs": [
    {
     "name": "stdout",
     "output_type": "stream",
     "text": [
      "22\n",
      "It's raining cats and dogs\n"
     ]
    }
   ],
   "source": [
    "# rfind\n",
    "def replace_ending(sentence, old, new):\n",
    "    # Check if the old substring is at the end of the sentence\n",
    "    if sentence.endswith(old): \n",
    "\n",
    "        # Find the index of the old substring\n",
    "        i = sentence.rfind(old)\n",
    "        print(i)\n",
    "        # Construct the new sentence by concatenating the beginning, new string, and remaining part\n",
    "        new_sentence = sentence[:i] + new\n",
    "        return new_sentence\n",
    "    # Return the original sentence if there is no match\n",
    "    return sentence \n",
    "\n",
    "\n",
    "# Should display \"It's raining cats and dogs\"\n",
    "print(replace_ending(\"It's raining cats and cats\", \"cats\", \"dogs\"))"
   ]
  },
  {
   "cell_type": "code",
   "execution_count": 25,
   "metadata": {},
   "outputs": [
    {
     "name": "stdout",
     "output_type": "stream",
     "text": [
      "It's raining cats and dogs\n"
     ]
    }
   ],
   "source": [
    "# rfind\n",
    "def replace_ending(sentence, old, new):\n",
    "    # Check if the old substring is at the end of the sentence\n",
    "    if sentence.endswith(old): \n",
    "\n",
    "        # Find the index of the old substring\n",
    "        # Construct the new sentence by concatenating the beginning, new string, and remaining part\n",
    "        new_sentence = sentence[:-len(old)] + new\n",
    "        return new_sentence\n",
    "    # Return the original sentence if there is no match\n",
    "    return sentence \n",
    "\n",
    "\n",
    "# Should display \"It's raining cats and dogs\"\n",
    "print(replace_ending(\"It's raining cats and cats\", \"cats\", \"dogs\"))"
   ]
  },
  {
   "cell_type": "code",
   "execution_count": null,
   "metadata": {},
   "outputs": [],
   "source": []
  },
  {
   "cell_type": "markdown",
   "metadata": {},
   "source": [
    "## RECURSION"
   ]
  },
  {
   "cell_type": "code",
   "execution_count": 26,
   "metadata": {},
   "outputs": [
    {
     "name": "stdout",
     "output_type": "stream",
     "text": [
      "Factorial called with 4\n",
      "Factorial called with 3\n",
      "Factorial called with 2\n",
      "Factorial called with 1\n",
      "Returning 1\n",
      "Returning 2 for factorial of 2\n",
      "Returning 6 for factorial of 3\n",
      "Returning 24 for factorial of 4\n"
     ]
    },
    {
     "data": {
      "text/plain": [
       "24"
      ]
     },
     "execution_count": 26,
     "metadata": {},
     "output_type": "execute_result"
    }
   ],
   "source": [
    "def factorial(n):\n",
    "  print(\"Factorial called with \" + str(n))\n",
    "  if n < 2:\n",
    "    print(\"Returning 1\")\n",
    "    return 1\n",
    "  result = n * factorial(n-1)\n",
    "  print(\"Returning \" + str(result) + \" for factorial of \" + str(n))\n",
    "  return result\n",
    "\n",
    "factorial(4)"
   ]
  },
  {
   "cell_type": "code",
   "execution_count": 27,
   "metadata": {},
   "outputs": [
    {
     "name": "stdout",
     "output_type": "stream",
     "text": [
      "6\n",
      "15\n"
     ]
    }
   ],
   "source": [
    "def sum_positive_numbers(n):\n",
    "    # The base case is n being smaller than 1\n",
    "    if n < 1:\n",
    "        return n\n",
    "\n",
    "    # The recursive case is adding this number to \n",
    "    # the sum of the numbers smaller than this one.\n",
    "    return n + sum_positive_numbers(n - 1)\n",
    "\n",
    "print(sum_positive_numbers(3)) # Should be 6\n",
    "print(sum_positive_numbers(5)) # Should be 15"
   ]
  },
  {
   "cell_type": "code",
   "execution_count": 28,
   "metadata": {},
   "outputs": [
    {
     "name": "stdout",
     "output_type": "stream",
     "text": [
      "True\n",
      "True\n",
      "False\n"
     ]
    }
   ],
   "source": [
    "def is_power_of(number, base):\n",
    " # Base case: when number is smaller than base.\n",
    "    if number < base:\n",
    "        # If number is equal to 1, it's a power (base**0).\n",
    "        if number == 1: return True\n",
    "        else: return False\n",
    "\n",
    "    # Recursive case: keep dividing number by base.\n",
    "    return is_power_of(number / base, base)\n",
    "\n",
    "\n",
    "print(is_power_of(8,2))     # Should be True\n",
    "print(is_power_of(64,4))    # Should be True\n",
    "print(is_power_of(70,10))   # Should be False"
   ]
  },
  {
   "cell_type": "code",
   "execution_count": 29,
   "metadata": {},
   "outputs": [],
   "source": [
    "# def count_users(group):\n",
    "#   count = 0\n",
    "#   for member in get_members(group):\n",
    "#     if is_group(member):\n",
    "#       count += count_users(member)\n",
    "#     else:\n",
    "#       count += 1\n",
    "#   return count\n",
    "\n",
    "\n",
    "# print(count_users(\"sales\")) # Should be 3\n",
    "# print(count_users(\"engineering\")) # Should be 8\n",
    "# print(count_users(\"everyone\")) # Should be 18"
   ]
  },
  {
   "cell_type": "code",
   "execution_count": 30,
   "metadata": {},
   "outputs": [
    {
     "name": "stdout",
     "output_type": "stream",
     "text": [
      "10\n",
      "4\n",
      "9\n"
     ]
    }
   ],
   "source": [
    "def divisible(max, divisor):\n",
    "    count = 0\n",
    "    for i in range(0, max, divisor):\n",
    "        count += 1\n",
    "\n",
    "    # if max % divisor != 0:\n",
    "    #     count += 1\n",
    "    return count\n",
    "\n",
    "print(divisible(100, 10)) # Should be 10\n",
    "print(divisible(10, 3)) # Should be 4\n",
    "print(divisible(144, 17)) # Should be 9"
   ]
  },
  {
   "cell_type": "code",
   "execution_count": 31,
   "metadata": {},
   "outputs": [
    {
     "name": "stdout",
     "output_type": "stream",
     "text": [
      "iterasi ke 0 : 1\n",
      "iterasi ke 10 : 2\n",
      "iterasi ke 20 : 3\n",
      "iterasi ke 30 : 4\n",
      "iterasi ke 40 : 5\n",
      "iterasi ke 50 : 6\n",
      "iterasi ke 60 : 7\n",
      "iterasi ke 70 : 8\n",
      "iterasi ke 80 : 9\n",
      "iterasi ke 90 : 10\n",
      "10\n",
      "iterasi ke 0 : 1\n",
      "iterasi ke 3 : 2\n",
      "iterasi ke 6 : 3\n",
      "iterasi ke 9 : 4\n",
      "4\n",
      "iterasi ke 0 : 1\n",
      "iterasi ke 17 : 2\n",
      "iterasi ke 34 : 3\n",
      "iterasi ke 51 : 4\n",
      "iterasi ke 68 : 5\n",
      "iterasi ke 85 : 6\n",
      "iterasi ke 102 : 7\n",
      "iterasi ke 119 : 8\n",
      "iterasi ke 136 : 9\n",
      "9\n"
     ]
    }
   ],
   "source": [
    "def divisible(max, divisor):\n",
    "    count = 0\n",
    "    for i in range(0, max, divisor):\n",
    "        count += 1\n",
    "        print(f\"iterasi ke {i} : {count}\")\n",
    "\n",
    "    # if max % divisor != 0:\n",
    "    #     count += 1\n",
    "    return count\n",
    "\n",
    "print(divisible(100, 10)) # Should be 10\n",
    "print(divisible(10, 3)) # Should be 4\n",
    "print(divisible(144, 17)) # Should be 9"
   ]
  },
  {
   "cell_type": "markdown",
   "metadata": {},
   "source": [
    "## STRING METHOD"
   ]
  },
  {
   "cell_type": "code",
   "execution_count": 32,
   "metadata": {},
   "outputs": [
    {
     "name": "stdout",
     "output_type": "stream",
     "text": [
      "SLEEP\n",
      "yes go\n",
      "4\n",
      "2\n",
      "False\n",
      "True\n",
      "False\n",
      "True\n",
      "170903\n",
      "True\n"
     ]
    }
   ],
   "source": [
    "print(\"sleep\".upper())\n",
    "print(\" yes go \".strip())\n",
    "print(\"hi you craizyii\".count(\"i\"))\n",
    "test = \"How much wood would a woodchuck chuck\"\n",
    "print(test.count(\"wood\"))\n",
    "print(\"mybabyboo\".endswith(\"baby\")) #should to end character\n",
    "print(\"Forest\".endswith(\"rest\"))\n",
    "print(\"Flow\".isnumeric())\n",
    "print(\"543\".isnumeric())\n",
    "print(int(\"170000\") + int(\"903\"))\n",
    "print(\"xyzzy\".isalpha()) #ONLY LETTER IN THE STRINGS"
   ]
  },
  {
   "cell_type": "code",
   "execution_count": 33,
   "metadata": {},
   "outputs": [
    {
     "data": {
      "text/plain": [
       "'This...is...a...phrase...joined...by...triple...dots'"
      ]
     },
     "execution_count": 33,
     "metadata": {},
     "output_type": "execute_result"
    }
   ],
   "source": [
    "\" \".join([\"This\", \"is\", \"a\", \"phrase\", \"joined\", \"by\", \"spaces\"])\n",
    "\"...\".join([\"This\", \"is\", \"a\", \"phrase\", \"joined\", \"by\", \"triple\", \"dots\"])"
   ]
  },
  {
   "cell_type": "code",
   "execution_count": 34,
   "metadata": {},
   "outputs": [
    {
     "name": "stdout",
     "output_type": "stream",
     "text": [
      "['How', 'much', 'wood', 'would', 'a', 'woodchuck', 'chuck']\n",
      "How-much-plastic-would-a-plasticchuck-chuck\n"
     ]
    }
   ],
   "source": [
    "\"This is another example\".split()\n",
    "test = \"How-much-wood-would-a-woodchuck-chuck\"\n",
    "print(test.split(\"-\"))\n",
    "print(test.replace(\"wood\", \"plastic\"))"
   ]
  },
  {
   "cell_type": "code",
   "execution_count": null,
   "metadata": {},
   "outputs": [],
   "source": []
  },
  {
   "cell_type": "markdown",
   "metadata": {},
   "source": [
    "## FORMATTING STRINGS"
   ]
  },
  {
   "cell_type": "code",
   "execution_count": 35,
   "metadata": {},
   "outputs": [
    {
     "name": "stdout",
     "output_type": "stream",
     "text": [
      "Reed received 80% on the exam\n",
      "Paige received 92% on the exam\n",
      "Jesse received 85% on the exam\n"
     ]
    }
   ],
   "source": [
    "def student_grade(name, grade):\n",
    "\treturn \"{} received {}% on the exam\".format(name, grade)\n",
    "\n",
    "print(student_grade(\"Reed\", 80))\n",
    "print(student_grade(\"Paige\", 92))\n",
    "print(student_grade(\"Jesse\", 85))"
   ]
  },
  {
   "cell_type": "code",
   "execution_count": 36,
   "metadata": {},
   "outputs": [
    {
     "name": "stdout",
     "output_type": "stream",
     "text": [
      "  0 F | -17.78 C\n",
      " 10 F | -12.22 C\n",
      " 20 F |  -6.67 C\n",
      " 30 F |  -1.11 C\n",
      " 40 F |   4.44 C\n",
      " 50 F |  10.00 C\n",
      " 60 F |  15.56 C\n",
      " 70 F |  21.11 C\n",
      " 80 F |  26.67 C\n",
      " 90 F |  32.22 C\n",
      "100 F |  37.78 C\n"
     ]
    }
   ],
   "source": [
    "def to_celsius(x):\n",
    "  return (x-32)*5/9\n",
    "\n",
    "for x in range(0,101,10):\n",
    "  print(\"{:>3} F | {:>6.2f} C\".format(x, to_celsius(x)))"
   ]
  },
  {
   "cell_type": "code",
   "execution_count": 37,
   "metadata": {},
   "outputs": [
    {
     "name": "stdout",
     "output_type": "stream",
     "text": [
      "Subtotal: 27.245\n",
      "Sales Tax: 1.8049812500000002\n",
      "Total: 29.049981250000002\n",
      "Subtotal  :  $  27.25\n",
      "Sales Tax :  $   1.80\n",
      "Total     :  $  29.05\n"
     ]
    }
   ],
   "source": [
    "# Here are the items in the customer's basket. Each item is a tuple\n",
    "# of (item name, weight, price per pound).\n",
    "#\n",
    "basket = [\n",
    "    (\"Peaches\", 3.0, 2.99),\n",
    "    (\"Pears\", 5.0, 1.66),\n",
    "    (\"Plums\", 2.5, 3.99)\n",
    "]\n",
    "\n",
    "\n",
    "# Calculate the total price for each item (weight times price per pound)\n",
    "# and add them up to get a subtotal.\n",
    "#\n",
    "subtotal = 0.00\n",
    "for item in basket:\n",
    "    fruit, weight, unit_price = item\n",
    "    subtotal += (weight * unit_price)\n",
    "\n",
    "\n",
    "# Now calculate the sales tax and total bill.\n",
    "#\n",
    "tax_rate = 0.06625 # 6.625% sales tax in New Jersey\n",
    "tax_amt = subtotal * tax_rate\n",
    "total = subtotal + tax_amt\n",
    "\n",
    "\n",
    "# Print the receipt for the customer.\n",
    "#\n",
    "print(\"Subtotal:\", subtotal)\n",
    "print(\"Sales Tax:\", tax_amt)\n",
    "print(\"Total:\", total)\n",
    "\n",
    "print(\"Subtotal  :  ${:7,.2f}\".format(subtotal))\n",
    "print(\"Sales Tax :  ${:7,.2f}\".format(tax_amt))\n",
    "print(\"Total     :  ${:7,.2f}\".format(total))"
   ]
  },
  {
   "cell_type": "code",
   "execution_count": 38,
   "metadata": {},
   "outputs": [
    {
     "name": "stdout",
     "output_type": "stream",
     "text": [
      "12 miles equals 19.2 km\n",
      "5.5 miles equals 8.8 km\n",
      "11 miles equals 17.6 km\n"
     ]
    }
   ],
   "source": [
    "def convert_distance(miles):\n",
    "    km = miles * 1.6 \n",
    "    result = \"{} miles equals {:.1f} km\".format(miles, km)\n",
    "    return result\n",
    "\n",
    "\n",
    "print(convert_distance(12)) # Should be: 12 miles equals 19.2 km\n",
    "print(convert_distance(5.5)) # Should be: 5.5 miles equals 8.8 km\n",
    "print(convert_distance(11)) # Should be: 11 miles equals 17.6 km"
   ]
  },
  {
   "cell_type": "code",
   "execution_count": 39,
   "metadata": {},
   "outputs": [
    {
     "name": "stdout",
     "output_type": "stream",
     "text": [
      "Jane S.\n",
      "Francesco R.\n",
      "Jean-Luc G.\n"
     ]
    }
   ],
   "source": [
    "def nametag(first_name, last_name):\n",
    "    return(\"{} {}.\".format(first_name, last_name[0]))\n",
    "\n",
    "\n",
    "print(nametag(\"Jane\", \"Smith\")) \n",
    "# Should display \"Jane S.\" \n",
    "print(nametag(\"Francesco\", \"Rinaldi\")) \n",
    "# Should display \"Francesco R.\" \n",
    "print(nametag(\"Jean-Luc\", \"Grand-Pierre\")) \n",
    "# Should display \"Jean-Luc G.\" \n"
   ]
  },
  {
   "cell_type": "code",
   "execution_count": 40,
   "metadata": {},
   "outputs": [
    {
     "name": "stdout",
     "output_type": "stream",
     "text": [
      "You are buying 3.0 pounds of peaches at 2.99 per pound.\n",
      "peaches are 2.99 per pound, and you have 3.0 pounds of peaches.\n"
     ]
    }
   ],
   "source": [
    "fruit = \"peaches\"\n",
    "weight = 3.0\n",
    "per_pound = 2.99\n",
    "output = \"You are buying {} pounds of {} at {} per pound.\".format(weight, fruit, per_pound)\n",
    "print(output)\n",
    "\n",
    "output = \"{1} are {2} per pound, and you have {0} pounds of {1}.\".format(weight, fruit, per_pound)\n",
    "print(output)"
   ]
  }
 ],
 "metadata": {
  "kernelspec": {
   "display_name": "Python 3",
   "language": "python",
   "name": "python3"
  },
  "language_info": {
   "codemirror_mode": {
    "name": "ipython",
    "version": 3
   },
   "file_extension": ".py",
   "mimetype": "text/x-python",
   "name": "python",
   "nbconvert_exporter": "python",
   "pygments_lexer": "ipython3",
   "version": "3.12.6"
  }
 },
 "nbformat": 4,
 "nbformat_minor": 2
}
